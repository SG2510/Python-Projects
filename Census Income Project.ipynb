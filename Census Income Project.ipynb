{
 "cells": [
  {
   "cell_type": "code",
   "execution_count": 3,
   "id": "c671a124",
   "metadata": {},
   "outputs": [],
   "source": [
    "import pandas as pd\n",
    "import numpy as np\n",
    "import matplotlib.pyplot as plt"
   ]
  },
  {
   "cell_type": "code",
   "execution_count": 5,
   "id": "a5fb9e39",
   "metadata": {},
   "outputs": [],
   "source": [
    "censusdata=pd.read_csv('census-income.csv',skipinitialspace = True)\n",
    "popdata = pd.read_csv('popdata.csv')"
   ]
  },
  {
   "cell_type": "code",
   "execution_count": 6,
   "id": "50e5a110",
   "metadata": {},
   "outputs": [
    {
     "data": {
      "text/html": [
       "<div>\n",
       "<style scoped>\n",
       "    .dataframe tbody tr th:only-of-type {\n",
       "        vertical-align: middle;\n",
       "    }\n",
       "\n",
       "    .dataframe tbody tr th {\n",
       "        vertical-align: top;\n",
       "    }\n",
       "\n",
       "    .dataframe thead th {\n",
       "        text-align: right;\n",
       "    }\n",
       "</style>\n",
       "<table border=\"1\" class=\"dataframe\">\n",
       "  <thead>\n",
       "    <tr style=\"text-align: right;\">\n",
       "      <th></th>\n",
       "      <th>age</th>\n",
       "      <th>workclass</th>\n",
       "      <th>fnlwgt</th>\n",
       "      <th>education</th>\n",
       "      <th>education-num</th>\n",
       "      <th>marital-status</th>\n",
       "      <th>occupation</th>\n",
       "      <th>relationship</th>\n",
       "      <th>race</th>\n",
       "      <th>sex</th>\n",
       "      <th>capital-gain</th>\n",
       "      <th>capital-loss</th>\n",
       "      <th>hours-per-week</th>\n",
       "      <th>native-country</th>\n",
       "      <th>Unnamed: 14</th>\n",
       "    </tr>\n",
       "  </thead>\n",
       "  <tbody>\n",
       "    <tr>\n",
       "      <th>0</th>\n",
       "      <td>39</td>\n",
       "      <td>State-gov</td>\n",
       "      <td>77516</td>\n",
       "      <td>Bachelors</td>\n",
       "      <td>13</td>\n",
       "      <td>Never-married</td>\n",
       "      <td>Adm-clerical</td>\n",
       "      <td>Not-in-family</td>\n",
       "      <td>White</td>\n",
       "      <td>Male</td>\n",
       "      <td>2174</td>\n",
       "      <td>0</td>\n",
       "      <td>40</td>\n",
       "      <td>United-States</td>\n",
       "      <td>&lt;=50K</td>\n",
       "    </tr>\n",
       "    <tr>\n",
       "      <th>1</th>\n",
       "      <td>50</td>\n",
       "      <td>Self-emp-not-inc</td>\n",
       "      <td>83311</td>\n",
       "      <td>Bachelors</td>\n",
       "      <td>13</td>\n",
       "      <td>Married-civ-spouse</td>\n",
       "      <td>Exec-managerial</td>\n",
       "      <td>Husband</td>\n",
       "      <td>White</td>\n",
       "      <td>Male</td>\n",
       "      <td>0</td>\n",
       "      <td>0</td>\n",
       "      <td>13</td>\n",
       "      <td>United-States</td>\n",
       "      <td>&lt;=50K</td>\n",
       "    </tr>\n",
       "    <tr>\n",
       "      <th>2</th>\n",
       "      <td>38</td>\n",
       "      <td>Private</td>\n",
       "      <td>215646</td>\n",
       "      <td>HS-grad</td>\n",
       "      <td>9</td>\n",
       "      <td>Divorced</td>\n",
       "      <td>Handlers-cleaners</td>\n",
       "      <td>Not-in-family</td>\n",
       "      <td>White</td>\n",
       "      <td>Male</td>\n",
       "      <td>0</td>\n",
       "      <td>0</td>\n",
       "      <td>40</td>\n",
       "      <td>United-States</td>\n",
       "      <td>&lt;=50K</td>\n",
       "    </tr>\n",
       "    <tr>\n",
       "      <th>3</th>\n",
       "      <td>53</td>\n",
       "      <td>Private</td>\n",
       "      <td>234721</td>\n",
       "      <td>11th</td>\n",
       "      <td>7</td>\n",
       "      <td>Married-civ-spouse</td>\n",
       "      <td>Handlers-cleaners</td>\n",
       "      <td>Husband</td>\n",
       "      <td>Black</td>\n",
       "      <td>Male</td>\n",
       "      <td>0</td>\n",
       "      <td>0</td>\n",
       "      <td>40</td>\n",
       "      <td>United-States</td>\n",
       "      <td>&lt;=50K</td>\n",
       "    </tr>\n",
       "    <tr>\n",
       "      <th>4</th>\n",
       "      <td>28</td>\n",
       "      <td>Private</td>\n",
       "      <td>338409</td>\n",
       "      <td>Bachelors</td>\n",
       "      <td>13</td>\n",
       "      <td>Married-civ-spouse</td>\n",
       "      <td>Prof-specialty</td>\n",
       "      <td>Wife</td>\n",
       "      <td>Black</td>\n",
       "      <td>Female</td>\n",
       "      <td>0</td>\n",
       "      <td>0</td>\n",
       "      <td>40</td>\n",
       "      <td>Cuba</td>\n",
       "      <td>&lt;=50K</td>\n",
       "    </tr>\n",
       "  </tbody>\n",
       "</table>\n",
       "</div>"
      ],
      "text/plain": [
       "   age         workclass  fnlwgt  education  education-num  \\\n",
       "0   39         State-gov   77516  Bachelors             13   \n",
       "1   50  Self-emp-not-inc   83311  Bachelors             13   \n",
       "2   38           Private  215646    HS-grad              9   \n",
       "3   53           Private  234721       11th              7   \n",
       "4   28           Private  338409  Bachelors             13   \n",
       "\n",
       "       marital-status         occupation   relationship   race     sex  \\\n",
       "0       Never-married       Adm-clerical  Not-in-family  White    Male   \n",
       "1  Married-civ-spouse    Exec-managerial        Husband  White    Male   \n",
       "2            Divorced  Handlers-cleaners  Not-in-family  White    Male   \n",
       "3  Married-civ-spouse  Handlers-cleaners        Husband  Black    Male   \n",
       "4  Married-civ-spouse     Prof-specialty           Wife  Black  Female   \n",
       "\n",
       "   capital-gain  capital-loss  hours-per-week native-country Unnamed: 14  \n",
       "0          2174             0              40  United-States       <=50K  \n",
       "1             0             0              13  United-States       <=50K  \n",
       "2             0             0              40  United-States       <=50K  \n",
       "3             0             0              40  United-States       <=50K  \n",
       "4             0             0              40           Cuba       <=50K  "
      ]
     },
     "execution_count": 6,
     "metadata": {},
     "output_type": "execute_result"
    }
   ],
   "source": [
    "censusdata.head()"
   ]
  },
  {
   "cell_type": "code",
   "execution_count": 7,
   "id": "582a990c",
   "metadata": {},
   "outputs": [
    {
     "data": {
      "text/html": [
       "<div>\n",
       "<style scoped>\n",
       "    .dataframe tbody tr th:only-of-type {\n",
       "        vertical-align: middle;\n",
       "    }\n",
       "\n",
       "    .dataframe tbody tr th {\n",
       "        vertical-align: top;\n",
       "    }\n",
       "\n",
       "    .dataframe thead th {\n",
       "        text-align: right;\n",
       "    }\n",
       "</style>\n",
       "<table border=\"1\" class=\"dataframe\">\n",
       "  <thead>\n",
       "    <tr style=\"text-align: right;\">\n",
       "      <th></th>\n",
       "      <th>value</th>\n",
       "      <th>date</th>\n",
       "    </tr>\n",
       "  </thead>\n",
       "  <tbody>\n",
       "    <tr>\n",
       "      <th>0</th>\n",
       "      <td>127299.0</td>\n",
       "      <td>1952-01-01</td>\n",
       "    </tr>\n",
       "    <tr>\n",
       "      <th>1</th>\n",
       "      <td>127517.0</td>\n",
       "      <td>1952-02-01</td>\n",
       "    </tr>\n",
       "    <tr>\n",
       "      <th>2</th>\n",
       "      <td>127721.0</td>\n",
       "      <td>1952-03-01</td>\n",
       "    </tr>\n",
       "    <tr>\n",
       "      <th>3</th>\n",
       "      <td>127933.0</td>\n",
       "      <td>1952-04-01</td>\n",
       "    </tr>\n",
       "    <tr>\n",
       "      <th>4</th>\n",
       "      <td>128130.0</td>\n",
       "      <td>1952-05-01</td>\n",
       "    </tr>\n",
       "  </tbody>\n",
       "</table>\n",
       "</div>"
      ],
      "text/plain": [
       "      value        date\n",
       "0  127299.0  1952-01-01\n",
       "1  127517.0  1952-02-01\n",
       "2  127721.0  1952-03-01\n",
       "3  127933.0  1952-04-01\n",
       "4  128130.0  1952-05-01"
      ]
     },
     "execution_count": 7,
     "metadata": {},
     "output_type": "execute_result"
    }
   ],
   "source": [
    "popdata.head()"
   ]
  },
  {
   "cell_type": "code",
   "execution_count": 8,
   "id": "ebc82275",
   "metadata": {},
   "outputs": [
    {
     "name": "stdout",
     "output_type": "stream",
     "text": [
      "<class 'pandas.core.frame.DataFrame'>\n",
      "RangeIndex: 816 entries, 0 to 815\n",
      "Data columns (total 2 columns):\n",
      " #   Column  Non-Null Count  Dtype  \n",
      "---  ------  --------------  -----  \n",
      " 0   value   816 non-null    float64\n",
      " 1   date    816 non-null    object \n",
      "dtypes: float64(1), object(1)\n",
      "memory usage: 12.9+ KB\n"
     ]
    }
   ],
   "source": [
    "popdata.info()"
   ]
  },
  {
   "cell_type": "code",
   "execution_count": 9,
   "id": "1a4b8cd8",
   "metadata": {},
   "outputs": [
    {
     "name": "stdout",
     "output_type": "stream",
     "text": [
      "<class 'pandas.core.frame.DataFrame'>\n",
      "RangeIndex: 32561 entries, 0 to 32560\n",
      "Data columns (total 15 columns):\n",
      " #   Column          Non-Null Count  Dtype \n",
      "---  ------          --------------  ----- \n",
      " 0   age             32561 non-null  int64 \n",
      " 1   workclass       32561 non-null  object\n",
      " 2   fnlwgt          32561 non-null  int64 \n",
      " 3   education       32561 non-null  object\n",
      " 4   education-num   32561 non-null  int64 \n",
      " 5   marital-status  32561 non-null  object\n",
      " 6   occupation      32561 non-null  object\n",
      " 7   relationship    32561 non-null  object\n",
      " 8   race            32561 non-null  object\n",
      " 9   sex             32561 non-null  object\n",
      " 10  capital-gain    32561 non-null  int64 \n",
      " 11  capital-loss    32561 non-null  int64 \n",
      " 12  hours-per-week  32561 non-null  int64 \n",
      " 13  native-country  32561 non-null  object\n",
      " 14  Unnamed: 14     32561 non-null  object\n",
      "dtypes: int64(6), object(9)\n",
      "memory usage: 3.7+ MB\n"
     ]
    }
   ],
   "source": [
    "censusdata.info()"
   ]
  },
  {
   "cell_type": "code",
   "execution_count": 10,
   "id": "04699711",
   "metadata": {},
   "outputs": [
    {
     "data": {
      "text/plain": [
       "age               0\n",
       "workclass         0\n",
       "fnlwgt            0\n",
       "education         0\n",
       "education-num     0\n",
       "marital-status    0\n",
       "occupation        0\n",
       "relationship      0\n",
       "race              0\n",
       "sex               0\n",
       "capital-gain      0\n",
       "capital-loss      0\n",
       "hours-per-week    0\n",
       "native-country    0\n",
       "Unnamed: 14       0\n",
       "dtype: int64"
      ]
     },
     "execution_count": 10,
     "metadata": {},
     "output_type": "execute_result"
    }
   ],
   "source": [
    "censusdata.isnull().sum()"
   ]
  },
  {
   "cell_type": "code",
   "execution_count": 11,
   "id": "fdcba4a6",
   "metadata": {},
   "outputs": [
    {
     "data": {
      "text/plain": [
       "value    0\n",
       "date     0\n",
       "dtype: int64"
      ]
     },
     "execution_count": 11,
     "metadata": {},
     "output_type": "execute_result"
    }
   ],
   "source": [
    "popdata.isnull().sum()"
   ]
  },
  {
   "cell_type": "markdown",
   "id": "078646a4",
   "metadata": {},
   "source": [
    "# Data Preprocessing"
   ]
  },
  {
   "cell_type": "code",
   "execution_count": 12,
   "id": "bdf00011",
   "metadata": {},
   "outputs": [],
   "source": [
    "censusdata.replace(to_replace = '?', value = np.nan , inplace = True)"
   ]
  },
  {
   "cell_type": "code",
   "execution_count": 13,
   "id": "771c1dca",
   "metadata": {},
   "outputs": [
    {
     "data": {
      "text/plain": [
       "age                  0\n",
       "workclass         1836\n",
       "fnlwgt               0\n",
       "education            0\n",
       "education-num        0\n",
       "marital-status       0\n",
       "occupation        1843\n",
       "relationship         0\n",
       "race                 0\n",
       "sex                  0\n",
       "capital-gain         0\n",
       "capital-loss         0\n",
       "hours-per-week       0\n",
       "native-country     583\n",
       "Unnamed: 14          0\n",
       "dtype: int64"
      ]
     },
     "execution_count": 13,
     "metadata": {},
     "output_type": "execute_result"
    }
   ],
   "source": [
    "censusdata.isnull().sum()"
   ]
  },
  {
   "cell_type": "code",
   "execution_count": 14,
   "id": "92ba865f",
   "metadata": {},
   "outputs": [],
   "source": [
    "censusdata = censusdata.dropna()"
   ]
  },
  {
   "cell_type": "code",
   "execution_count": 15,
   "id": "39bbc198",
   "metadata": {},
   "outputs": [
    {
     "data": {
      "text/plain": [
       "(30162, 15)"
      ]
     },
     "execution_count": 15,
     "metadata": {},
     "output_type": "execute_result"
    }
   ],
   "source": [
    "censusdata.shape"
   ]
  },
  {
   "cell_type": "code",
   "execution_count": 16,
   "id": "48bfe782",
   "metadata": {},
   "outputs": [],
   "source": [
    "popdata.replace(to_replace = '?', value = np.nan , inplace = True)"
   ]
  },
  {
   "cell_type": "code",
   "execution_count": 17,
   "id": "e1fd1a5b",
   "metadata": {},
   "outputs": [
    {
     "data": {
      "text/plain": [
       "value    0\n",
       "date     0\n",
       "dtype: int64"
      ]
     },
     "execution_count": 17,
     "metadata": {},
     "output_type": "execute_result"
    }
   ],
   "source": [
    "popdata.isnull().sum()"
   ]
  },
  {
   "cell_type": "markdown",
   "id": "d0fd5034",
   "metadata": {},
   "source": [
    "# Data Manipulation"
   ]
  },
  {
   "cell_type": "code",
   "execution_count": 18,
   "id": "4a5ca541",
   "metadata": {},
   "outputs": [
    {
     "data": {
      "text/plain": [
       "0    Bachelors\n",
       "1    Bachelors\n",
       "2      HS-grad\n",
       "3         11th\n",
       "4    Bachelors\n",
       "Name: education, dtype: object"
      ]
     },
     "execution_count": 18,
     "metadata": {},
     "output_type": "execute_result"
    }
   ],
   "source": [
    "census_ed = censusdata['education']\n",
    "census_ed.head()"
   ]
  },
  {
   "cell_type": "code",
   "execution_count": 19,
   "id": "8fba36c3",
   "metadata": {},
   "outputs": [
    {
     "data": {
      "text/html": [
       "<div>\n",
       "<style scoped>\n",
       "    .dataframe tbody tr th:only-of-type {\n",
       "        vertical-align: middle;\n",
       "    }\n",
       "\n",
       "    .dataframe tbody tr th {\n",
       "        vertical-align: top;\n",
       "    }\n",
       "\n",
       "    .dataframe thead th {\n",
       "        text-align: right;\n",
       "    }\n",
       "</style>\n",
       "<table border=\"1\" class=\"dataframe\">\n",
       "  <thead>\n",
       "    <tr style=\"text-align: right;\">\n",
       "      <th></th>\n",
       "      <th>age</th>\n",
       "      <th>workclass</th>\n",
       "      <th>fnlwgt</th>\n",
       "      <th>education</th>\n",
       "      <th>education-num</th>\n",
       "      <th>marital-status</th>\n",
       "      <th>occupation</th>\n",
       "      <th>relationship</th>\n",
       "    </tr>\n",
       "  </thead>\n",
       "  <tbody>\n",
       "    <tr>\n",
       "      <th>0</th>\n",
       "      <td>39</td>\n",
       "      <td>State-gov</td>\n",
       "      <td>77516</td>\n",
       "      <td>Bachelors</td>\n",
       "      <td>13</td>\n",
       "      <td>Never-married</td>\n",
       "      <td>Adm-clerical</td>\n",
       "      <td>Not-in-family</td>\n",
       "    </tr>\n",
       "    <tr>\n",
       "      <th>1</th>\n",
       "      <td>50</td>\n",
       "      <td>Self-emp-not-inc</td>\n",
       "      <td>83311</td>\n",
       "      <td>Bachelors</td>\n",
       "      <td>13</td>\n",
       "      <td>Married-civ-spouse</td>\n",
       "      <td>Exec-managerial</td>\n",
       "      <td>Husband</td>\n",
       "    </tr>\n",
       "    <tr>\n",
       "      <th>2</th>\n",
       "      <td>38</td>\n",
       "      <td>Private</td>\n",
       "      <td>215646</td>\n",
       "      <td>HS-grad</td>\n",
       "      <td>9</td>\n",
       "      <td>Divorced</td>\n",
       "      <td>Handlers-cleaners</td>\n",
       "      <td>Not-in-family</td>\n",
       "    </tr>\n",
       "    <tr>\n",
       "      <th>3</th>\n",
       "      <td>53</td>\n",
       "      <td>Private</td>\n",
       "      <td>234721</td>\n",
       "      <td>11th</td>\n",
       "      <td>7</td>\n",
       "      <td>Married-civ-spouse</td>\n",
       "      <td>Handlers-cleaners</td>\n",
       "      <td>Husband</td>\n",
       "    </tr>\n",
       "    <tr>\n",
       "      <th>4</th>\n",
       "      <td>28</td>\n",
       "      <td>Private</td>\n",
       "      <td>338409</td>\n",
       "      <td>Bachelors</td>\n",
       "      <td>13</td>\n",
       "      <td>Married-civ-spouse</td>\n",
       "      <td>Prof-specialty</td>\n",
       "      <td>Wife</td>\n",
       "    </tr>\n",
       "  </tbody>\n",
       "</table>\n",
       "</div>"
      ],
      "text/plain": [
       "   age         workclass  fnlwgt  education  education-num  \\\n",
       "0   39         State-gov   77516  Bachelors             13   \n",
       "1   50  Self-emp-not-inc   83311  Bachelors             13   \n",
       "2   38           Private  215646    HS-grad              9   \n",
       "3   53           Private  234721       11th              7   \n",
       "4   28           Private  338409  Bachelors             13   \n",
       "\n",
       "       marital-status         occupation   relationship  \n",
       "0       Never-married       Adm-clerical  Not-in-family  \n",
       "1  Married-civ-spouse    Exec-managerial        Husband  \n",
       "2            Divorced  Handlers-cleaners  Not-in-family  \n",
       "3  Married-civ-spouse  Handlers-cleaners        Husband  \n",
       "4  Married-civ-spouse     Prof-specialty           Wife  "
      ]
     },
     "execution_count": 19,
     "metadata": {},
     "output_type": "execute_result"
    }
   ],
   "source": [
    "census_seq = censusdata.iloc[:,0:8]\n",
    "census_seq.head()"
   ]
  },
  {
   "cell_type": "code",
   "execution_count": 20,
   "id": "a4f8a4d8",
   "metadata": {},
   "outputs": [
    {
     "data": {
      "text/html": [
       "<div>\n",
       "<style scoped>\n",
       "    .dataframe tbody tr th:only-of-type {\n",
       "        vertical-align: middle;\n",
       "    }\n",
       "\n",
       "    .dataframe tbody tr th {\n",
       "        vertical-align: top;\n",
       "    }\n",
       "\n",
       "    .dataframe thead th {\n",
       "        text-align: right;\n",
       "    }\n",
       "</style>\n",
       "<table border=\"1\" class=\"dataframe\">\n",
       "  <thead>\n",
       "    <tr style=\"text-align: right;\">\n",
       "      <th></th>\n",
       "      <th>marital-status</th>\n",
       "      <th>race</th>\n",
       "      <th>capital-loss</th>\n",
       "    </tr>\n",
       "  </thead>\n",
       "  <tbody>\n",
       "    <tr>\n",
       "      <th>0</th>\n",
       "      <td>Never-married</td>\n",
       "      <td>White</td>\n",
       "      <td>0</td>\n",
       "    </tr>\n",
       "    <tr>\n",
       "      <th>1</th>\n",
       "      <td>Married-civ-spouse</td>\n",
       "      <td>White</td>\n",
       "      <td>0</td>\n",
       "    </tr>\n",
       "    <tr>\n",
       "      <th>2</th>\n",
       "      <td>Divorced</td>\n",
       "      <td>White</td>\n",
       "      <td>0</td>\n",
       "    </tr>\n",
       "    <tr>\n",
       "      <th>3</th>\n",
       "      <td>Married-civ-spouse</td>\n",
       "      <td>Black</td>\n",
       "      <td>0</td>\n",
       "    </tr>\n",
       "    <tr>\n",
       "      <th>4</th>\n",
       "      <td>Married-civ-spouse</td>\n",
       "      <td>Black</td>\n",
       "      <td>0</td>\n",
       "    </tr>\n",
       "  </tbody>\n",
       "</table>\n",
       "</div>"
      ],
      "text/plain": [
       "       marital-status   race  capital-loss\n",
       "0       Never-married  White             0\n",
       "1  Married-civ-spouse  White             0\n",
       "2            Divorced  White             0\n",
       "3  Married-civ-spouse  Black             0\n",
       "4  Married-civ-spouse  Black             0"
      ]
     },
     "execution_count": 20,
     "metadata": {},
     "output_type": "execute_result"
    }
   ],
   "source": [
    "census_col = censusdata.iloc[:,[5,8,11]]\n",
    "census_col.head()"
   ]
  },
  {
   "cell_type": "code",
   "execution_count": 21,
   "id": "5c9b8428",
   "metadata": {},
   "outputs": [
    {
     "data": {
      "text/html": [
       "<div>\n",
       "<style scoped>\n",
       "    .dataframe tbody tr th:only-of-type {\n",
       "        vertical-align: middle;\n",
       "    }\n",
       "\n",
       "    .dataframe tbody tr th {\n",
       "        vertical-align: top;\n",
       "    }\n",
       "\n",
       "    .dataframe thead th {\n",
       "        text-align: right;\n",
       "    }\n",
       "</style>\n",
       "<table border=\"1\" class=\"dataframe\">\n",
       "  <thead>\n",
       "    <tr style=\"text-align: right;\">\n",
       "      <th></th>\n",
       "      <th>age</th>\n",
       "      <th>workclass</th>\n",
       "      <th>fnlwgt</th>\n",
       "      <th>education</th>\n",
       "      <th>education-num</th>\n",
       "      <th>marital-status</th>\n",
       "      <th>occupation</th>\n",
       "      <th>relationship</th>\n",
       "      <th>race</th>\n",
       "      <th>sex</th>\n",
       "      <th>capital-gain</th>\n",
       "      <th>capital-loss</th>\n",
       "      <th>hours-per-week</th>\n",
       "      <th>native-country</th>\n",
       "      <th>Unnamed: 14</th>\n",
       "    </tr>\n",
       "  </thead>\n",
       "  <tbody>\n",
       "    <tr>\n",
       "      <th>0</th>\n",
       "      <td>39</td>\n",
       "      <td>State-gov</td>\n",
       "      <td>77516</td>\n",
       "      <td>Bachelors</td>\n",
       "      <td>13</td>\n",
       "      <td>Never-married</td>\n",
       "      <td>Adm-clerical</td>\n",
       "      <td>Not-in-family</td>\n",
       "      <td>White</td>\n",
       "      <td>Male</td>\n",
       "      <td>2174</td>\n",
       "      <td>0</td>\n",
       "      <td>40</td>\n",
       "      <td>United-States</td>\n",
       "      <td>&lt;=50K</td>\n",
       "    </tr>\n",
       "    <tr>\n",
       "      <th>11</th>\n",
       "      <td>30</td>\n",
       "      <td>State-gov</td>\n",
       "      <td>141297</td>\n",
       "      <td>Bachelors</td>\n",
       "      <td>13</td>\n",
       "      <td>Married-civ-spouse</td>\n",
       "      <td>Prof-specialty</td>\n",
       "      <td>Husband</td>\n",
       "      <td>Asian-Pac-Islander</td>\n",
       "      <td>Male</td>\n",
       "      <td>0</td>\n",
       "      <td>0</td>\n",
       "      <td>40</td>\n",
       "      <td>India</td>\n",
       "      <td>&gt;50K</td>\n",
       "    </tr>\n",
       "    <tr>\n",
       "      <th>34</th>\n",
       "      <td>22</td>\n",
       "      <td>State-gov</td>\n",
       "      <td>311512</td>\n",
       "      <td>Some-college</td>\n",
       "      <td>10</td>\n",
       "      <td>Married-civ-spouse</td>\n",
       "      <td>Other-service</td>\n",
       "      <td>Husband</td>\n",
       "      <td>Black</td>\n",
       "      <td>Male</td>\n",
       "      <td>0</td>\n",
       "      <td>0</td>\n",
       "      <td>15</td>\n",
       "      <td>United-States</td>\n",
       "      <td>&lt;=50K</td>\n",
       "    </tr>\n",
       "    <tr>\n",
       "      <th>48</th>\n",
       "      <td>41</td>\n",
       "      <td>State-gov</td>\n",
       "      <td>101603</td>\n",
       "      <td>Assoc-voc</td>\n",
       "      <td>11</td>\n",
       "      <td>Married-civ-spouse</td>\n",
       "      <td>Craft-repair</td>\n",
       "      <td>Husband</td>\n",
       "      <td>White</td>\n",
       "      <td>Male</td>\n",
       "      <td>0</td>\n",
       "      <td>0</td>\n",
       "      <td>40</td>\n",
       "      <td>United-States</td>\n",
       "      <td>&lt;=50K</td>\n",
       "    </tr>\n",
       "    <tr>\n",
       "      <th>123</th>\n",
       "      <td>29</td>\n",
       "      <td>State-gov</td>\n",
       "      <td>267989</td>\n",
       "      <td>Bachelors</td>\n",
       "      <td>13</td>\n",
       "      <td>Married-civ-spouse</td>\n",
       "      <td>Prof-specialty</td>\n",
       "      <td>Husband</td>\n",
       "      <td>White</td>\n",
       "      <td>Male</td>\n",
       "      <td>0</td>\n",
       "      <td>0</td>\n",
       "      <td>50</td>\n",
       "      <td>United-States</td>\n",
       "      <td>&gt;50K</td>\n",
       "    </tr>\n",
       "  </tbody>\n",
       "</table>\n",
       "</div>"
      ],
      "text/plain": [
       "     age  workclass  fnlwgt     education  education-num      marital-status  \\\n",
       "0     39  State-gov   77516     Bachelors             13       Never-married   \n",
       "11    30  State-gov  141297     Bachelors             13  Married-civ-spouse   \n",
       "34    22  State-gov  311512  Some-college             10  Married-civ-spouse   \n",
       "48    41  State-gov  101603     Assoc-voc             11  Married-civ-spouse   \n",
       "123   29  State-gov  267989     Bachelors             13  Married-civ-spouse   \n",
       "\n",
       "         occupation   relationship                race   sex  capital-gain  \\\n",
       "0      Adm-clerical  Not-in-family               White  Male          2174   \n",
       "11   Prof-specialty        Husband  Asian-Pac-Islander  Male             0   \n",
       "34    Other-service        Husband               Black  Male             0   \n",
       "48     Craft-repair        Husband               White  Male             0   \n",
       "123  Prof-specialty        Husband               White  Male             0   \n",
       "\n",
       "     capital-loss  hours-per-week native-country Unnamed: 14  \n",
       "0               0              40  United-States       <=50K  \n",
       "11              0              40          India        >50K  \n",
       "34              0              15  United-States       <=50K  \n",
       "48              0              40  United-States       <=50K  \n",
       "123             0              50  United-States        >50K  "
      ]
     },
     "execution_count": 21,
     "metadata": {},
     "output_type": "execute_result"
    }
   ],
   "source": [
    "male_gov = censusdata[(censusdata['sex'] == 'Male') & (censusdata['workclass'] == 'State-gov')]\n",
    "male_gov.head()"
   ]
  },
  {
   "cell_type": "code",
   "execution_count": 22,
   "id": "f2b11ed1",
   "metadata": {},
   "outputs": [
    {
     "data": {
      "text/html": [
       "<div>\n",
       "<style scoped>\n",
       "    .dataframe tbody tr th:only-of-type {\n",
       "        vertical-align: middle;\n",
       "    }\n",
       "\n",
       "    .dataframe tbody tr th {\n",
       "        vertical-align: top;\n",
       "    }\n",
       "\n",
       "    .dataframe thead th {\n",
       "        text-align: right;\n",
       "    }\n",
       "</style>\n",
       "<table border=\"1\" class=\"dataframe\">\n",
       "  <thead>\n",
       "    <tr style=\"text-align: right;\">\n",
       "      <th></th>\n",
       "      <th>age</th>\n",
       "      <th>workclass</th>\n",
       "      <th>fnlwgt</th>\n",
       "      <th>education</th>\n",
       "      <th>education-num</th>\n",
       "      <th>marital-status</th>\n",
       "      <th>occupation</th>\n",
       "      <th>relationship</th>\n",
       "      <th>race</th>\n",
       "      <th>sex</th>\n",
       "      <th>capital-gain</th>\n",
       "      <th>capital-loss</th>\n",
       "      <th>hours-per-week</th>\n",
       "      <th>native-country</th>\n",
       "      <th>Unnamed: 14</th>\n",
       "    </tr>\n",
       "  </thead>\n",
       "  <tbody>\n",
       "    <tr>\n",
       "      <th>0</th>\n",
       "      <td>39</td>\n",
       "      <td>State-gov</td>\n",
       "      <td>77516</td>\n",
       "      <td>Bachelors</td>\n",
       "      <td>13</td>\n",
       "      <td>Never-married</td>\n",
       "      <td>Adm-clerical</td>\n",
       "      <td>Not-in-family</td>\n",
       "      <td>White</td>\n",
       "      <td>Male</td>\n",
       "      <td>2174</td>\n",
       "      <td>0</td>\n",
       "      <td>40</td>\n",
       "      <td>United-States</td>\n",
       "      <td>&lt;=50K</td>\n",
       "    </tr>\n",
       "    <tr>\n",
       "      <th>28</th>\n",
       "      <td>39</td>\n",
       "      <td>Private</td>\n",
       "      <td>367260</td>\n",
       "      <td>HS-grad</td>\n",
       "      <td>9</td>\n",
       "      <td>Divorced</td>\n",
       "      <td>Exec-managerial</td>\n",
       "      <td>Not-in-family</td>\n",
       "      <td>White</td>\n",
       "      <td>Male</td>\n",
       "      <td>0</td>\n",
       "      <td>0</td>\n",
       "      <td>80</td>\n",
       "      <td>United-States</td>\n",
       "      <td>&lt;=50K</td>\n",
       "    </tr>\n",
       "    <tr>\n",
       "      <th>129</th>\n",
       "      <td>39</td>\n",
       "      <td>Private</td>\n",
       "      <td>365739</td>\n",
       "      <td>Some-college</td>\n",
       "      <td>10</td>\n",
       "      <td>Divorced</td>\n",
       "      <td>Craft-repair</td>\n",
       "      <td>Not-in-family</td>\n",
       "      <td>White</td>\n",
       "      <td>Male</td>\n",
       "      <td>0</td>\n",
       "      <td>0</td>\n",
       "      <td>40</td>\n",
       "      <td>United-States</td>\n",
       "      <td>&lt;=50K</td>\n",
       "    </tr>\n",
       "    <tr>\n",
       "      <th>166</th>\n",
       "      <td>39</td>\n",
       "      <td>Federal-gov</td>\n",
       "      <td>235485</td>\n",
       "      <td>Assoc-acdm</td>\n",
       "      <td>12</td>\n",
       "      <td>Never-married</td>\n",
       "      <td>Exec-managerial</td>\n",
       "      <td>Not-in-family</td>\n",
       "      <td>White</td>\n",
       "      <td>Male</td>\n",
       "      <td>0</td>\n",
       "      <td>0</td>\n",
       "      <td>42</td>\n",
       "      <td>United-States</td>\n",
       "      <td>&lt;=50K</td>\n",
       "    </tr>\n",
       "    <tr>\n",
       "      <th>320</th>\n",
       "      <td>39</td>\n",
       "      <td>Self-emp-not-inc</td>\n",
       "      <td>174308</td>\n",
       "      <td>HS-grad</td>\n",
       "      <td>9</td>\n",
       "      <td>Married-civ-spouse</td>\n",
       "      <td>Exec-managerial</td>\n",
       "      <td>Husband</td>\n",
       "      <td>White</td>\n",
       "      <td>Male</td>\n",
       "      <td>0</td>\n",
       "      <td>0</td>\n",
       "      <td>40</td>\n",
       "      <td>United-States</td>\n",
       "      <td>&lt;=50K</td>\n",
       "    </tr>\n",
       "  </tbody>\n",
       "</table>\n",
       "</div>"
      ],
      "text/plain": [
       "     age         workclass  fnlwgt     education  education-num  \\\n",
       "0     39         State-gov   77516     Bachelors             13   \n",
       "28    39           Private  367260       HS-grad              9   \n",
       "129   39           Private  365739  Some-college             10   \n",
       "166   39       Federal-gov  235485    Assoc-acdm             12   \n",
       "320   39  Self-emp-not-inc  174308       HS-grad              9   \n",
       "\n",
       "         marital-status       occupation   relationship   race   sex  \\\n",
       "0         Never-married     Adm-clerical  Not-in-family  White  Male   \n",
       "28             Divorced  Exec-managerial  Not-in-family  White  Male   \n",
       "129            Divorced     Craft-repair  Not-in-family  White  Male   \n",
       "166       Never-married  Exec-managerial  Not-in-family  White  Male   \n",
       "320  Married-civ-spouse  Exec-managerial        Husband  White  Male   \n",
       "\n",
       "     capital-gain  capital-loss  hours-per-week native-country Unnamed: 14  \n",
       "0            2174             0              40  United-States       <=50K  \n",
       "28              0             0              80  United-States       <=50K  \n",
       "129             0             0              40  United-States       <=50K  \n",
       "166             0             0              42  United-States       <=50K  \n",
       "320             0             0              40  United-States       <=50K  "
      ]
     },
     "execution_count": 22,
     "metadata": {},
     "output_type": "execute_result"
    }
   ],
   "source": [
    "census_us = censusdata[(censusdata['age'] == 39) & ((censusdata['education'] == 'Bachelors') | (censusdata['native-country'] == 'United-States'))]\n",
    "census_us.head()"
   ]
  },
  {
   "cell_type": "code",
   "execution_count": 23,
   "id": "bdaa0ef1",
   "metadata": {},
   "outputs": [
    {
     "data": {
      "text/html": [
       "<div>\n",
       "<style scoped>\n",
       "    .dataframe tbody tr th:only-of-type {\n",
       "        vertical-align: middle;\n",
       "    }\n",
       "\n",
       "    .dataframe tbody tr th {\n",
       "        vertical-align: top;\n",
       "    }\n",
       "\n",
       "    .dataframe thead th {\n",
       "        text-align: right;\n",
       "    }\n",
       "</style>\n",
       "<table border=\"1\" class=\"dataframe\">\n",
       "  <thead>\n",
       "    <tr style=\"text-align: right;\">\n",
       "      <th></th>\n",
       "      <th>age</th>\n",
       "      <th>workclass</th>\n",
       "      <th>fnlwgt</th>\n",
       "      <th>education</th>\n",
       "      <th>education-num</th>\n",
       "      <th>marital-status</th>\n",
       "      <th>occupation</th>\n",
       "      <th>relationship</th>\n",
       "      <th>race</th>\n",
       "      <th>sex</th>\n",
       "      <th>capital-gain</th>\n",
       "      <th>capital-loss</th>\n",
       "      <th>hours-per-week</th>\n",
       "      <th>native-country</th>\n",
       "      <th>Unnamed: 14</th>\n",
       "    </tr>\n",
       "  </thead>\n",
       "  <tbody>\n",
       "    <tr>\n",
       "      <th>8603</th>\n",
       "      <td>62</td>\n",
       "      <td>Local-gov</td>\n",
       "      <td>407669</td>\n",
       "      <td>7th-8th</td>\n",
       "      <td>4</td>\n",
       "      <td>Widowed</td>\n",
       "      <td>Other-service</td>\n",
       "      <td>Not-in-family</td>\n",
       "      <td>Black</td>\n",
       "      <td>Female</td>\n",
       "      <td>0</td>\n",
       "      <td>0</td>\n",
       "      <td>35</td>\n",
       "      <td>United-States</td>\n",
       "      <td>&lt;=50K</td>\n",
       "    </tr>\n",
       "    <tr>\n",
       "      <th>32250</th>\n",
       "      <td>43</td>\n",
       "      <td>Private</td>\n",
       "      <td>409922</td>\n",
       "      <td>Bachelors</td>\n",
       "      <td>13</td>\n",
       "      <td>Married-civ-spouse</td>\n",
       "      <td>Exec-managerial</td>\n",
       "      <td>Husband</td>\n",
       "      <td>White</td>\n",
       "      <td>Male</td>\n",
       "      <td>0</td>\n",
       "      <td>1977</td>\n",
       "      <td>50</td>\n",
       "      <td>United-States</td>\n",
       "      <td>&gt;50K</td>\n",
       "    </tr>\n",
       "    <tr>\n",
       "      <th>12704</th>\n",
       "      <td>41</td>\n",
       "      <td>Federal-gov</td>\n",
       "      <td>214838</td>\n",
       "      <td>Masters</td>\n",
       "      <td>14</td>\n",
       "      <td>Married-civ-spouse</td>\n",
       "      <td>Exec-managerial</td>\n",
       "      <td>Husband</td>\n",
       "      <td>White</td>\n",
       "      <td>Male</td>\n",
       "      <td>0</td>\n",
       "      <td>0</td>\n",
       "      <td>60</td>\n",
       "      <td>United-States</td>\n",
       "      <td>&gt;50K</td>\n",
       "    </tr>\n",
       "    <tr>\n",
       "      <th>10262</th>\n",
       "      <td>39</td>\n",
       "      <td>Private</td>\n",
       "      <td>233428</td>\n",
       "      <td>HS-grad</td>\n",
       "      <td>9</td>\n",
       "      <td>Divorced</td>\n",
       "      <td>Exec-managerial</td>\n",
       "      <td>Other-relative</td>\n",
       "      <td>White</td>\n",
       "      <td>Female</td>\n",
       "      <td>0</td>\n",
       "      <td>0</td>\n",
       "      <td>40</td>\n",
       "      <td>United-States</td>\n",
       "      <td>&lt;=50K</td>\n",
       "    </tr>\n",
       "    <tr>\n",
       "      <th>8406</th>\n",
       "      <td>65</td>\n",
       "      <td>Local-gov</td>\n",
       "      <td>125768</td>\n",
       "      <td>Some-college</td>\n",
       "      <td>10</td>\n",
       "      <td>Divorced</td>\n",
       "      <td>Adm-clerical</td>\n",
       "      <td>Not-in-family</td>\n",
       "      <td>White</td>\n",
       "      <td>Female</td>\n",
       "      <td>0</td>\n",
       "      <td>0</td>\n",
       "      <td>28</td>\n",
       "      <td>United-States</td>\n",
       "      <td>&lt;=50K</td>\n",
       "    </tr>\n",
       "    <tr>\n",
       "      <th>...</th>\n",
       "      <td>...</td>\n",
       "      <td>...</td>\n",
       "      <td>...</td>\n",
       "      <td>...</td>\n",
       "      <td>...</td>\n",
       "      <td>...</td>\n",
       "      <td>...</td>\n",
       "      <td>...</td>\n",
       "      <td>...</td>\n",
       "      <td>...</td>\n",
       "      <td>...</td>\n",
       "      <td>...</td>\n",
       "      <td>...</td>\n",
       "      <td>...</td>\n",
       "      <td>...</td>\n",
       "    </tr>\n",
       "    <tr>\n",
       "      <th>18341</th>\n",
       "      <td>38</td>\n",
       "      <td>Private</td>\n",
       "      <td>76317</td>\n",
       "      <td>Assoc-voc</td>\n",
       "      <td>11</td>\n",
       "      <td>Married-civ-spouse</td>\n",
       "      <td>Exec-managerial</td>\n",
       "      <td>Husband</td>\n",
       "      <td>White</td>\n",
       "      <td>Male</td>\n",
       "      <td>0</td>\n",
       "      <td>0</td>\n",
       "      <td>55</td>\n",
       "      <td>United-States</td>\n",
       "      <td>&gt;50K</td>\n",
       "    </tr>\n",
       "    <tr>\n",
       "      <th>6998</th>\n",
       "      <td>18</td>\n",
       "      <td>Private</td>\n",
       "      <td>125441</td>\n",
       "      <td>11th</td>\n",
       "      <td>7</td>\n",
       "      <td>Never-married</td>\n",
       "      <td>Other-service</td>\n",
       "      <td>Own-child</td>\n",
       "      <td>White</td>\n",
       "      <td>Male</td>\n",
       "      <td>1055</td>\n",
       "      <td>0</td>\n",
       "      <td>20</td>\n",
       "      <td>United-States</td>\n",
       "      <td>&lt;=50K</td>\n",
       "    </tr>\n",
       "    <tr>\n",
       "      <th>748</th>\n",
       "      <td>29</td>\n",
       "      <td>Private</td>\n",
       "      <td>267034</td>\n",
       "      <td>11th</td>\n",
       "      <td>7</td>\n",
       "      <td>Never-married</td>\n",
       "      <td>Craft-repair</td>\n",
       "      <td>Own-child</td>\n",
       "      <td>Black</td>\n",
       "      <td>Male</td>\n",
       "      <td>0</td>\n",
       "      <td>0</td>\n",
       "      <td>40</td>\n",
       "      <td>Haiti</td>\n",
       "      <td>&lt;=50K</td>\n",
       "    </tr>\n",
       "    <tr>\n",
       "      <th>27830</th>\n",
       "      <td>25</td>\n",
       "      <td>Private</td>\n",
       "      <td>50103</td>\n",
       "      <td>HS-grad</td>\n",
       "      <td>9</td>\n",
       "      <td>Never-married</td>\n",
       "      <td>Sales</td>\n",
       "      <td>Unmarried</td>\n",
       "      <td>White</td>\n",
       "      <td>Female</td>\n",
       "      <td>0</td>\n",
       "      <td>0</td>\n",
       "      <td>40</td>\n",
       "      <td>United-States</td>\n",
       "      <td>&lt;=50K</td>\n",
       "    </tr>\n",
       "    <tr>\n",
       "      <th>22575</th>\n",
       "      <td>53</td>\n",
       "      <td>Private</td>\n",
       "      <td>137192</td>\n",
       "      <td>Bachelors</td>\n",
       "      <td>13</td>\n",
       "      <td>Divorced</td>\n",
       "      <td>Exec-managerial</td>\n",
       "      <td>Unmarried</td>\n",
       "      <td>Asian-Pac-Islander</td>\n",
       "      <td>Male</td>\n",
       "      <td>0</td>\n",
       "      <td>0</td>\n",
       "      <td>50</td>\n",
       "      <td>United-States</td>\n",
       "      <td>&lt;=50K</td>\n",
       "    </tr>\n",
       "  </tbody>\n",
       "</table>\n",
       "<p>200 rows × 15 columns</p>\n",
       "</div>"
      ],
      "text/plain": [
       "       age    workclass  fnlwgt     education  education-num  \\\n",
       "8603    62    Local-gov  407669       7th-8th              4   \n",
       "32250   43      Private  409922     Bachelors             13   \n",
       "12704   41  Federal-gov  214838       Masters             14   \n",
       "10262   39      Private  233428       HS-grad              9   \n",
       "8406    65    Local-gov  125768  Some-college             10   \n",
       "...    ...          ...     ...           ...            ...   \n",
       "18341   38      Private   76317     Assoc-voc             11   \n",
       "6998    18      Private  125441          11th              7   \n",
       "748     29      Private  267034          11th              7   \n",
       "27830   25      Private   50103       HS-grad              9   \n",
       "22575   53      Private  137192     Bachelors             13   \n",
       "\n",
       "           marital-status       occupation    relationship  \\\n",
       "8603              Widowed    Other-service   Not-in-family   \n",
       "32250  Married-civ-spouse  Exec-managerial         Husband   \n",
       "12704  Married-civ-spouse  Exec-managerial         Husband   \n",
       "10262            Divorced  Exec-managerial  Other-relative   \n",
       "8406             Divorced     Adm-clerical   Not-in-family   \n",
       "...                   ...              ...             ...   \n",
       "18341  Married-civ-spouse  Exec-managerial         Husband   \n",
       "6998        Never-married    Other-service       Own-child   \n",
       "748         Never-married     Craft-repair       Own-child   \n",
       "27830       Never-married            Sales       Unmarried   \n",
       "22575            Divorced  Exec-managerial       Unmarried   \n",
       "\n",
       "                     race     sex  capital-gain  capital-loss  hours-per-week  \\\n",
       "8603                Black  Female             0             0              35   \n",
       "32250               White    Male             0          1977              50   \n",
       "12704               White    Male             0             0              60   \n",
       "10262               White  Female             0             0              40   \n",
       "8406                White  Female             0             0              28   \n",
       "...                   ...     ...           ...           ...             ...   \n",
       "18341               White    Male             0             0              55   \n",
       "6998                White    Male          1055             0              20   \n",
       "748                 Black    Male             0             0              40   \n",
       "27830               White  Female             0             0              40   \n",
       "22575  Asian-Pac-Islander    Male             0             0              50   \n",
       "\n",
       "      native-country Unnamed: 14  \n",
       "8603   United-States       <=50K  \n",
       "32250  United-States        >50K  \n",
       "12704  United-States        >50K  \n",
       "10262  United-States       <=50K  \n",
       "8406   United-States       <=50K  \n",
       "...              ...         ...  \n",
       "18341  United-States        >50K  \n",
       "6998   United-States       <=50K  \n",
       "748            Haiti       <=50K  \n",
       "27830  United-States       <=50K  \n",
       "22575  United-States       <=50K  \n",
       "\n",
       "[200 rows x 15 columns]"
      ]
     },
     "execution_count": 23,
     "metadata": {},
     "output_type": "execute_result"
    }
   ],
   "source": [
    "census_200 = censusdata.sample(200)\n",
    "census_200"
   ]
  },
  {
   "cell_type": "code",
   "execution_count": 24,
   "id": "804099bb",
   "metadata": {},
   "outputs": [
    {
     "data": {
      "text/plain": [
       "Private             22286\n",
       "Self-emp-not-inc     2499\n",
       "Local-gov            2067\n",
       "State-gov            1279\n",
       "Self-emp-inc         1074\n",
       "Federal-gov           943\n",
       "Without-pay            14\n",
       "Name: workclass, dtype: int64"
      ]
     },
     "execution_count": 24,
     "metadata": {},
     "output_type": "execute_result"
    }
   ],
   "source": [
    "censusdata['workclass'].value_counts()"
   ]
  },
  {
   "cell_type": "code",
   "execution_count": 25,
   "id": "2bcef3b9",
   "metadata": {},
   "outputs": [
    {
     "data": {
      "text/html": [
       "<div>\n",
       "<style scoped>\n",
       "    .dataframe tbody tr th:only-of-type {\n",
       "        vertical-align: middle;\n",
       "    }\n",
       "\n",
       "    .dataframe tbody tr th {\n",
       "        vertical-align: top;\n",
       "    }\n",
       "\n",
       "    .dataframe thead th {\n",
       "        text-align: right;\n",
       "    }\n",
       "</style>\n",
       "<table border=\"1\" class=\"dataframe\">\n",
       "  <thead>\n",
       "    <tr style=\"text-align: right;\">\n",
       "      <th></th>\n",
       "      <th>capital-gain</th>\n",
       "    </tr>\n",
       "    <tr>\n",
       "      <th>workclass</th>\n",
       "      <th></th>\n",
       "    </tr>\n",
       "  </thead>\n",
       "  <tbody>\n",
       "    <tr>\n",
       "      <th>Federal-gov</th>\n",
       "      <td>832.321315</td>\n",
       "    </tr>\n",
       "    <tr>\n",
       "      <th>Local-gov</th>\n",
       "      <td>829.230285</td>\n",
       "    </tr>\n",
       "    <tr>\n",
       "      <th>Private</th>\n",
       "      <td>879.858207</td>\n",
       "    </tr>\n",
       "    <tr>\n",
       "      <th>Self-emp-inc</th>\n",
       "      <td>4810.746741</td>\n",
       "    </tr>\n",
       "    <tr>\n",
       "      <th>Self-emp-not-inc</th>\n",
       "      <td>1913.134454</td>\n",
       "    </tr>\n",
       "    <tr>\n",
       "      <th>State-gov</th>\n",
       "      <td>684.306489</td>\n",
       "    </tr>\n",
       "    <tr>\n",
       "      <th>Without-pay</th>\n",
       "      <td>487.857143</td>\n",
       "    </tr>\n",
       "  </tbody>\n",
       "</table>\n",
       "</div>"
      ],
      "text/plain": [
       "                  capital-gain\n",
       "workclass                     \n",
       "Federal-gov         832.321315\n",
       "Local-gov           829.230285\n",
       "Private             879.858207\n",
       "Self-emp-inc       4810.746741\n",
       "Self-emp-not-inc   1913.134454\n",
       "State-gov           684.306489\n",
       "Without-pay         487.857143"
      ]
     },
     "execution_count": 25,
     "metadata": {},
     "output_type": "execute_result"
    }
   ],
   "source": [
    "censusdata.iloc[:,[1,10]].groupby(['workclass']).mean()"
   ]
  },
  {
   "cell_type": "code",
   "execution_count": 26,
   "id": "89d5cd0f",
   "metadata": {},
   "outputs": [
    {
     "data": {
      "text/html": [
       "<div>\n",
       "<style scoped>\n",
       "    .dataframe tbody tr th:only-of-type {\n",
       "        vertical-align: middle;\n",
       "    }\n",
       "\n",
       "    .dataframe tbody tr th {\n",
       "        vertical-align: top;\n",
       "    }\n",
       "\n",
       "    .dataframe thead th {\n",
       "        text-align: right;\n",
       "    }\n",
       "</style>\n",
       "<table border=\"1\" class=\"dataframe\">\n",
       "  <thead>\n",
       "    <tr style=\"text-align: right;\">\n",
       "      <th></th>\n",
       "      <th>age</th>\n",
       "      <th>workclass</th>\n",
       "      <th>fnlwgt</th>\n",
       "      <th>education</th>\n",
       "      <th>education-num</th>\n",
       "      <th>marital-status</th>\n",
       "      <th>occupation</th>\n",
       "      <th>relationship</th>\n",
       "      <th>race</th>\n",
       "      <th>sex</th>\n",
       "      <th>capital-gain</th>\n",
       "      <th>capital-loss</th>\n",
       "      <th>hours-per-week</th>\n",
       "      <th>native-country</th>\n",
       "      <th>Unnamed: 14</th>\n",
       "    </tr>\n",
       "  </thead>\n",
       "  <tbody>\n",
       "    <tr>\n",
       "      <th>7</th>\n",
       "      <td>52</td>\n",
       "      <td>Self-emp-not-inc</td>\n",
       "      <td>209642</td>\n",
       "      <td>HS-grad</td>\n",
       "      <td>9</td>\n",
       "      <td>Married-civ-spouse</td>\n",
       "      <td>Exec-managerial</td>\n",
       "      <td>Husband</td>\n",
       "      <td>White</td>\n",
       "      <td>Male</td>\n",
       "      <td>0</td>\n",
       "      <td>0</td>\n",
       "      <td>45</td>\n",
       "      <td>United-States</td>\n",
       "      <td>&gt;50K</td>\n",
       "    </tr>\n",
       "    <tr>\n",
       "      <th>9</th>\n",
       "      <td>42</td>\n",
       "      <td>Private</td>\n",
       "      <td>159449</td>\n",
       "      <td>Bachelors</td>\n",
       "      <td>13</td>\n",
       "      <td>Married-civ-spouse</td>\n",
       "      <td>Exec-managerial</td>\n",
       "      <td>Husband</td>\n",
       "      <td>White</td>\n",
       "      <td>Male</td>\n",
       "      <td>5178</td>\n",
       "      <td>0</td>\n",
       "      <td>40</td>\n",
       "      <td>United-States</td>\n",
       "      <td>&gt;50K</td>\n",
       "    </tr>\n",
       "    <tr>\n",
       "      <th>10</th>\n",
       "      <td>37</td>\n",
       "      <td>Private</td>\n",
       "      <td>280464</td>\n",
       "      <td>Some-college</td>\n",
       "      <td>10</td>\n",
       "      <td>Married-civ-spouse</td>\n",
       "      <td>Exec-managerial</td>\n",
       "      <td>Husband</td>\n",
       "      <td>Black</td>\n",
       "      <td>Male</td>\n",
       "      <td>0</td>\n",
       "      <td>0</td>\n",
       "      <td>80</td>\n",
       "      <td>United-States</td>\n",
       "      <td>&gt;50K</td>\n",
       "    </tr>\n",
       "    <tr>\n",
       "      <th>11</th>\n",
       "      <td>30</td>\n",
       "      <td>State-gov</td>\n",
       "      <td>141297</td>\n",
       "      <td>Bachelors</td>\n",
       "      <td>13</td>\n",
       "      <td>Married-civ-spouse</td>\n",
       "      <td>Prof-specialty</td>\n",
       "      <td>Husband</td>\n",
       "      <td>Asian-Pac-Islander</td>\n",
       "      <td>Male</td>\n",
       "      <td>0</td>\n",
       "      <td>0</td>\n",
       "      <td>40</td>\n",
       "      <td>India</td>\n",
       "      <td>&gt;50K</td>\n",
       "    </tr>\n",
       "    <tr>\n",
       "      <th>20</th>\n",
       "      <td>40</td>\n",
       "      <td>Private</td>\n",
       "      <td>193524</td>\n",
       "      <td>Doctorate</td>\n",
       "      <td>16</td>\n",
       "      <td>Married-civ-spouse</td>\n",
       "      <td>Prof-specialty</td>\n",
       "      <td>Husband</td>\n",
       "      <td>White</td>\n",
       "      <td>Male</td>\n",
       "      <td>0</td>\n",
       "      <td>0</td>\n",
       "      <td>60</td>\n",
       "      <td>United-States</td>\n",
       "      <td>&gt;50K</td>\n",
       "    </tr>\n",
       "  </tbody>\n",
       "</table>\n",
       "</div>"
      ],
      "text/plain": [
       "    age         workclass  fnlwgt     education  education-num  \\\n",
       "7    52  Self-emp-not-inc  209642       HS-grad              9   \n",
       "9    42           Private  159449     Bachelors             13   \n",
       "10   37           Private  280464  Some-college             10   \n",
       "11   30         State-gov  141297     Bachelors             13   \n",
       "20   40           Private  193524     Doctorate             16   \n",
       "\n",
       "        marital-status       occupation relationship                race  \\\n",
       "7   Married-civ-spouse  Exec-managerial      Husband               White   \n",
       "9   Married-civ-spouse  Exec-managerial      Husband               White   \n",
       "10  Married-civ-spouse  Exec-managerial      Husband               Black   \n",
       "11  Married-civ-spouse   Prof-specialty      Husband  Asian-Pac-Islander   \n",
       "20  Married-civ-spouse   Prof-specialty      Husband               White   \n",
       "\n",
       "     sex  capital-gain  capital-loss  hours-per-week native-country  \\\n",
       "7   Male             0             0              45  United-States   \n",
       "9   Male          5178             0              40  United-States   \n",
       "10  Male             0             0              80  United-States   \n",
       "11  Male             0             0              40          India   \n",
       "20  Male             0             0              60  United-States   \n",
       "\n",
       "   Unnamed: 14  \n",
       "7         >50K  \n",
       "9         >50K  \n",
       "10        >50K  \n",
       "11        >50K  \n",
       "20        >50K  "
      ]
     },
     "execution_count": 26,
     "metadata": {},
     "output_type": "execute_result"
    }
   ],
   "source": [
    "census_male = censusdata[(censusdata['sex'] == 'Male') & (censusdata['Unnamed: 14'] == '>50K')]\n",
    "census_male.head()"
   ]
  },
  {
   "cell_type": "code",
   "execution_count": 27,
   "id": "ab2af9b2",
   "metadata": {},
   "outputs": [
    {
     "data": {
      "text/html": [
       "<div>\n",
       "<style scoped>\n",
       "    .dataframe tbody tr th:only-of-type {\n",
       "        vertical-align: middle;\n",
       "    }\n",
       "\n",
       "    .dataframe tbody tr th {\n",
       "        vertical-align: top;\n",
       "    }\n",
       "\n",
       "    .dataframe thead th {\n",
       "        text-align: right;\n",
       "    }\n",
       "</style>\n",
       "<table border=\"1\" class=\"dataframe\">\n",
       "  <thead>\n",
       "    <tr style=\"text-align: right;\">\n",
       "      <th></th>\n",
       "      <th>age</th>\n",
       "      <th>workclass</th>\n",
       "      <th>fnlwgt</th>\n",
       "      <th>education</th>\n",
       "      <th>education-num</th>\n",
       "      <th>marital-status</th>\n",
       "      <th>occupation</th>\n",
       "      <th>relationship</th>\n",
       "      <th>race</th>\n",
       "      <th>sex</th>\n",
       "      <th>capital-gain</th>\n",
       "      <th>capital-loss</th>\n",
       "      <th>hours-per-week</th>\n",
       "      <th>native-country</th>\n",
       "      <th>Unnamed: 14</th>\n",
       "    </tr>\n",
       "  </thead>\n",
       "  <tbody>\n",
       "    <tr>\n",
       "      <th>8</th>\n",
       "      <td>31</td>\n",
       "      <td>Private</td>\n",
       "      <td>45781</td>\n",
       "      <td>Masters</td>\n",
       "      <td>14</td>\n",
       "      <td>Never-married</td>\n",
       "      <td>Prof-specialty</td>\n",
       "      <td>Not-in-family</td>\n",
       "      <td>White</td>\n",
       "      <td>Female</td>\n",
       "      <td>14084</td>\n",
       "      <td>0</td>\n",
       "      <td>50</td>\n",
       "      <td>United-States</td>\n",
       "      <td>&gt;50K</td>\n",
       "    </tr>\n",
       "    <tr>\n",
       "      <th>19</th>\n",
       "      <td>43</td>\n",
       "      <td>Self-emp-not-inc</td>\n",
       "      <td>292175</td>\n",
       "      <td>Masters</td>\n",
       "      <td>14</td>\n",
       "      <td>Divorced</td>\n",
       "      <td>Exec-managerial</td>\n",
       "      <td>Unmarried</td>\n",
       "      <td>White</td>\n",
       "      <td>Female</td>\n",
       "      <td>0</td>\n",
       "      <td>0</td>\n",
       "      <td>45</td>\n",
       "      <td>United-States</td>\n",
       "      <td>&gt;50K</td>\n",
       "    </tr>\n",
       "    <tr>\n",
       "      <th>52</th>\n",
       "      <td>47</td>\n",
       "      <td>Private</td>\n",
       "      <td>51835</td>\n",
       "      <td>Prof-school</td>\n",
       "      <td>15</td>\n",
       "      <td>Married-civ-spouse</td>\n",
       "      <td>Prof-specialty</td>\n",
       "      <td>Wife</td>\n",
       "      <td>White</td>\n",
       "      <td>Female</td>\n",
       "      <td>0</td>\n",
       "      <td>1902</td>\n",
       "      <td>60</td>\n",
       "      <td>Honduras</td>\n",
       "      <td>&gt;50K</td>\n",
       "    </tr>\n",
       "    <tr>\n",
       "      <th>67</th>\n",
       "      <td>53</td>\n",
       "      <td>Private</td>\n",
       "      <td>169846</td>\n",
       "      <td>HS-grad</td>\n",
       "      <td>9</td>\n",
       "      <td>Married-civ-spouse</td>\n",
       "      <td>Adm-clerical</td>\n",
       "      <td>Wife</td>\n",
       "      <td>White</td>\n",
       "      <td>Female</td>\n",
       "      <td>0</td>\n",
       "      <td>0</td>\n",
       "      <td>40</td>\n",
       "      <td>United-States</td>\n",
       "      <td>&gt;50K</td>\n",
       "    </tr>\n",
       "    <tr>\n",
       "      <th>84</th>\n",
       "      <td>44</td>\n",
       "      <td>Private</td>\n",
       "      <td>343591</td>\n",
       "      <td>HS-grad</td>\n",
       "      <td>9</td>\n",
       "      <td>Divorced</td>\n",
       "      <td>Craft-repair</td>\n",
       "      <td>Not-in-family</td>\n",
       "      <td>White</td>\n",
       "      <td>Female</td>\n",
       "      <td>14344</td>\n",
       "      <td>0</td>\n",
       "      <td>40</td>\n",
       "      <td>United-States</td>\n",
       "      <td>&gt;50K</td>\n",
       "    </tr>\n",
       "  </tbody>\n",
       "</table>\n",
       "</div>"
      ],
      "text/plain": [
       "    age         workclass  fnlwgt    education  education-num  \\\n",
       "8    31           Private   45781      Masters             14   \n",
       "19   43  Self-emp-not-inc  292175      Masters             14   \n",
       "52   47           Private   51835  Prof-school             15   \n",
       "67   53           Private  169846      HS-grad              9   \n",
       "84   44           Private  343591      HS-grad              9   \n",
       "\n",
       "        marital-status       occupation   relationship   race     sex  \\\n",
       "8        Never-married   Prof-specialty  Not-in-family  White  Female   \n",
       "19            Divorced  Exec-managerial      Unmarried  White  Female   \n",
       "52  Married-civ-spouse   Prof-specialty           Wife  White  Female   \n",
       "67  Married-civ-spouse     Adm-clerical           Wife  White  Female   \n",
       "84            Divorced     Craft-repair  Not-in-family  White  Female   \n",
       "\n",
       "    capital-gain  capital-loss  hours-per-week native-country Unnamed: 14  \n",
       "8          14084             0              50  United-States        >50K  \n",
       "19             0             0              45  United-States        >50K  \n",
       "52             0          1902              60       Honduras        >50K  \n",
       "67             0             0              40  United-States        >50K  \n",
       "84         14344             0              40  United-States        >50K  "
      ]
     },
     "execution_count": 27,
     "metadata": {},
     "output_type": "execute_result"
    }
   ],
   "source": [
    "census_female = censusdata[(censusdata['sex'] == 'Female') & (censusdata['Unnamed: 14'] == '>50K')]\n",
    "census_female.head()"
   ]
  },
  {
   "cell_type": "code",
   "execution_count": 28,
   "id": "9b690753",
   "metadata": {},
   "outputs": [
    {
     "name": "stdout",
     "output_type": "stream",
     "text": [
      "57.72163649625356 %\n"
     ]
    }
   ],
   "source": [
    "a = censusdata[(censusdata['workclass'] == 'Private') & (censusdata['Unnamed: 14'] == '<=50K')]\n",
    "percentage = (len(a.index)/len(censusdata.index))*100\n",
    "print(percentage,'%')"
   ]
  },
  {
   "cell_type": "code",
   "execution_count": 29,
   "id": "ad2f4252",
   "metadata": {},
   "outputs": [
    {
     "name": "stdout",
     "output_type": "stream",
     "text": [
      "47.92785624295471 %\n"
     ]
    }
   ],
   "source": [
    "b = censusdata[(censusdata['marital-status'] == 'Married-civ-spouse') | (censusdata['marital-status'] == 'Married-spouse-absent') | (censusdata['marital-status'] =='Married-AF-spouse')]\n",
    "percentage = (len(b.index)/len(censusdata.index))*100\n",
    "print(percentage,'%')"
   ]
  },
  {
   "cell_type": "code",
   "execution_count": 30,
   "id": "3977dc5b",
   "metadata": {},
   "outputs": [
    {
     "name": "stdout",
     "output_type": "stream",
     "text": [
      "5.361050328227571 %\n"
     ]
    }
   ],
   "source": [
    "c = censusdata[(censusdata['education'] == 'HS-grad') & (censusdata['Unnamed: 14'] == '>50K')]\n",
    "percentage = (len(c.index)/len(censusdata.index))*100\n",
    "print(percentage,'%')"
   ]
  },
  {
   "cell_type": "markdown",
   "id": "751a81b6",
   "metadata": {},
   "source": [
    "# Linear Regression"
   ]
  },
  {
   "cell_type": "code",
   "execution_count": 24,
   "id": "ee32fbc8",
   "metadata": {},
   "outputs": [],
   "source": [
    "# here Independent variable : education-num\n",
    "#      dependent variable : hours-per-week"
   ]
  },
  {
   "cell_type": "code",
   "execution_count": 31,
   "id": "af90294a",
   "metadata": {},
   "outputs": [],
   "source": [
    "from sklearn.model_selection import train_test_split\n",
    "from sklearn.linear_model import LinearRegression\n",
    "from sklearn import metrics \n",
    "\n",
    "x = censusdata['education-num']\n",
    "y = censusdata['hours-per-week']\n",
    "x_train, x_test, y_train, y_test = train_test_split(x,y,test_size = 0.3,random_state = 0)\n",
    "x_train = pd.DataFrame(x_train,columns=['education-num'])\n",
    "y_train = pd.DataFrame(y_train,columns=['hours-per-week'])\n",
    "x_test = pd.DataFrame(x_test,columns=['education-num'])"
   ]
  },
  {
   "cell_type": "code",
   "execution_count": 32,
   "id": "1d0c0dd5",
   "metadata": {},
   "outputs": [
    {
     "data": {
      "text/plain": [
       "LinearRegression()"
      ]
     },
     "execution_count": 32,
     "metadata": {},
     "output_type": "execute_result"
    }
   ],
   "source": [
    "#trained on train set data\n",
    "regressor = LinearRegression()  \n",
    "regressor.fit(x_train, y_train)"
   ]
  },
  {
   "cell_type": "code",
   "execution_count": 33,
   "id": "aa5941f2",
   "metadata": {},
   "outputs": [
    {
     "name": "stdout",
     "output_type": "stream",
     "text": [
      "Mean Absolute Error: 7.632257802626869\n",
      "Mean Squared Error: 145.81515723280097\n",
      "Root Mean Squared Error: 12.075394702981802\n"
     ]
    }
   ],
   "source": [
    "# with test set data\n",
    "y_pred = regressor.predict(x_test)\n",
    "y_pred = pd.DataFrame(y_pred,columns=['Predicted'])\n",
    "print('Mean Absolute Error:', metrics.mean_absolute_error(y_test, y_pred))  \n",
    "print('Mean Squared Error:', metrics.mean_squared_error(y_test, y_pred))  \n",
    "print('Root Mean Squared Error:', np.sqrt(metrics.mean_squared_error(y_test, y_pred)))"
   ]
  },
  {
   "cell_type": "code",
   "execution_count": 34,
   "id": "398bdb54",
   "metadata": {},
   "outputs": [
    {
     "name": "stdout",
     "output_type": "stream",
     "text": [
      "Mean Absolute Error: 7.459355547796268\n",
      "Mean Squared Error: 137.76014309500732\n",
      "Root Mean Squared Error: 11.737126696726389\n"
     ]
    }
   ],
   "source": [
    "# with train set data\n",
    "y_pred = regressor.predict(x_train)\n",
    "y_pred = pd.DataFrame(y_pred,columns=['Predicted'])\n",
    "print('Mean Absolute Error:', metrics.mean_absolute_error(y_train, y_pred))  \n",
    "print('Mean Squared Error:', metrics.mean_squared_error(y_train, y_pred))  \n",
    "print('Root Mean Squared Error:', np.sqrt(metrics.mean_squared_error(y_train, y_pred)))"
   ]
  },
  {
   "cell_type": "markdown",
   "id": "e5ab13c9",
   "metadata": {},
   "source": [
    "# Logistic Regression"
   ]
  },
  {
   "cell_type": "markdown",
   "id": "d9067dc0",
   "metadata": {},
   "source": [
    "Simple logistic regression model "
   ]
  },
  {
   "cell_type": "code",
   "execution_count": 38,
   "id": "62d13776",
   "metadata": {},
   "outputs": [
    {
     "data": {
      "text/plain": [
       "0        <=50K\n",
       "1        <=50K\n",
       "2        <=50K\n",
       "3        <=50K\n",
       "4        <=50K\n",
       "         ...  \n",
       "32556    <=50K\n",
       "32557     >50K\n",
       "32558    <=50K\n",
       "32559    <=50K\n",
       "32560     >50K\n",
       "Name: YearlyIncome, Length: 30162, dtype: object"
      ]
     },
     "execution_count": 38,
     "metadata": {},
     "output_type": "execute_result"
    }
   ],
   "source": [
    "censusdata['YearlyIncome'] = censusdata['Unnamed: 14']\n",
    "censusdata['YearlyIncome']"
   ]
  },
  {
   "cell_type": "code",
   "execution_count": 51,
   "id": "7a516ffc",
   "metadata": {},
   "outputs": [],
   "source": [
    "from sklearn.preprocessing import LabelEncoder\n",
    "L=LabelEncoder\n",
    "censusdata['YearlyIncome'] = L.fit_transform(censusdata['YearlyIncome'],censusdata['YearlyIncome'])\n",
    "censusdata['occupation'] = L.fit_transform(censusdata['occupation'],censusdata['occupation'])"
   ]
  },
  {
   "cell_type": "code",
   "execution_count": 52,
   "id": "04aded3b",
   "metadata": {},
   "outputs": [],
   "source": [
    "from sklearn.model_selection import train_test_split\n",
    "from sklearn.linear_model import LogisticRegression\n",
    "from sklearn.metrics import confusion_matrix\n",
    "\n",
    "x = censusdata['occupation']\n",
    "y = censusdata['YearlyIncome']\n",
    "x_train, x_test, y_train, y_test = train_test_split(x,y,test_size = 0.35,random_state = 0)\n"
   ]
  },
  {
   "cell_type": "code",
   "execution_count": 54,
   "id": "91a54500",
   "metadata": {},
   "outputs": [
    {
     "name": "stderr",
     "output_type": "stream",
     "text": [
      "E:\\Anaconda\\lib\\site-packages\\sklearn\\utils\\validation.py:993: DataConversionWarning: A column-vector y was passed when a 1d array was expected. Please change the shape of y to (n_samples, ), for example using ravel().\n",
      "  y = column_or_1d(y, warn=True)\n"
     ]
    },
    {
     "name": "stdout",
     "output_type": "stream",
     "text": [
      "[[7921    0]\n",
      " [2636    0]]\n",
      "Accuracy: %d 0.750307852609643\n"
     ]
    }
   ],
   "source": [
    "x_train_log= pd.DataFrame(x_train)\n",
    "y_train_log = pd.DataFrame(y_train)\n",
    "x_test_log = pd.DataFrame(x_test)\n",
    "logmodel = LogisticRegression(solver='lbfgs') \n",
    "logmodel.fit(x_train_log, y_train_log)\n",
    "y_pred_log = logmodel.predict(x_test_log)\n",
    "confusion_matrix = confusion_matrix(y_test, y_pred_log)\n",
    "print(confusion_matrix)\n",
    "print('Accuracy: %d', (logmodel.score(x_test_log, y_test)))"
   ]
  },
  {
   "cell_type": "markdown",
   "id": "9c3d2dc6",
   "metadata": {},
   "source": [
    "Multiple logistic regression model "
   ]
  },
  {
   "cell_type": "code",
   "execution_count": 100,
   "id": "9abdfa70",
   "metadata": {},
   "outputs": [],
   "source": [
    "censusdata['workclass'] = L.fit_transform(censusdata['workclass'],censusdata['workclass'])\n",
    "censusdata['education'] = L.fit_transform(censusdata['education'],censusdata['education'])\n",
    "x = pd.DataFrame(data = censusdata, columns = [ 'age','workclass','education'])\n",
    "y = censusdata['YearlyIncome']\n",
    "x_train, x_test, y_train, y_test = train_test_split(x,y,test_size = 0.20,random_state = 0)"
   ]
  },
  {
   "cell_type": "code",
   "execution_count": 101,
   "id": "12a7e67c",
   "metadata": {},
   "outputs": [
    {
     "name": "stderr",
     "output_type": "stream",
     "text": [
      "E:\\Anaconda\\lib\\site-packages\\sklearn\\utils\\validation.py:993: DataConversionWarning: A column-vector y was passed when a 1d array was expected. Please change the shape of y to (n_samples, ), for example using ravel().\n",
      "  y = column_or_1d(y, warn=True)\n"
     ]
    }
   ],
   "source": [
    "x_train_log= pd.DataFrame(x_train)\n",
    "y_train_log = pd.DataFrame(y_train)\n",
    "x_test_log = pd.DataFrame(x_test)\n",
    "logmodel = LogisticRegression(solver='lbfgs') \n",
    "logmodel.fit(x_train_log, y_train_log)\n",
    "y_pred_log = logmodel.predict(x_test_log)"
   ]
  },
  {
   "cell_type": "code",
   "execution_count": 102,
   "id": "e8a27c5f",
   "metadata": {},
   "outputs": [
    {
     "name": "stdout",
     "output_type": "stream",
     "text": [
      "[[4394  138]\n",
      " [1464   37]]\n",
      "Accuracy: %d 0.7344604674291397\n"
     ]
    }
   ],
   "source": [
    "from sklearn.metrics import confusion_matrix\n",
    "confusion_matrix = confusion_matrix(y_test, y_pred_log)\n",
    "print(confusion_matrix)\n",
    "print('Accuracy: %d', (logmodel.score(x_test_log, y_test)))"
   ]
  },
  {
   "cell_type": "markdown",
   "id": "78625971",
   "metadata": {},
   "source": [
    "# Decision Tree"
   ]
  },
  {
   "cell_type": "code",
   "execution_count": 106,
   "id": "2d045ea5",
   "metadata": {},
   "outputs": [
    {
     "data": {
      "text/plain": [
       "['marital-status',\n",
       " 'relationship',\n",
       " 'race',\n",
       " 'sex',\n",
       " 'native-country',\n",
       " 'Unnamed: 14']"
      ]
     },
     "execution_count": 106,
     "metadata": {},
     "output_type": "execute_result"
    }
   ],
   "source": [
    "categorical_columns = [columns for columns in censusdata.columns if censusdata[columns].dtypes == 'O']\n",
    "categorical_columns"
   ]
  },
  {
   "cell_type": "code",
   "execution_count": 109,
   "id": "da2920a1",
   "metadata": {},
   "outputs": [],
   "source": [
    "for i in categorical_columns:\n",
    "    censusdata[i] = L.fit_transform(censusdata[i],censusdata[i])"
   ]
  },
  {
   "cell_type": "code",
   "execution_count": 110,
   "id": "89c646f9",
   "metadata": {},
   "outputs": [],
   "source": [
    "from sklearn.model_selection import train_test_split\n",
    "from sklearn import tree\n",
    "from sklearn.metrics import accuracy_score,confusion_matrix\n",
    "\n",
    "x = censusdata.iloc[:, :-1]\n",
    "y = censusdata['YearlyIncome']\n",
    "x_train, x_test, y_train, y_test = train_test_split(x,y,test_size = 0.30,random_state = 0)"
   ]
  },
  {
   "cell_type": "code",
   "execution_count": 111,
   "id": "eab3dcc2",
   "metadata": {},
   "outputs": [
    {
     "name": "stdout",
     "output_type": "stream",
     "text": [
      "1.0\n"
     ]
    },
    {
     "data": {
      "text/plain": [
       "array([[6764,    0],\n",
       "       [   0, 2285]], dtype=int64)"
      ]
     },
     "execution_count": 111,
     "metadata": {},
     "output_type": "execute_result"
    }
   ],
   "source": [
    "clf = tree.DecisionTreeClassifier() \n",
    "clf.fit(x_train,y_train) \n",
    "y_train_pred = clf.predict(x_train)\n",
    "y_test_pred = clf.predict(x_test)\n",
    "print(accuracy_score(y_test_pred,y_test))\n",
    "confusion_matrix(y_test_pred,y_test)"
   ]
  },
  {
   "cell_type": "markdown",
   "id": "ad22d315",
   "metadata": {},
   "source": [
    "# Random Forest"
   ]
  },
  {
   "cell_type": "code",
   "execution_count": 112,
   "id": "6978177d",
   "metadata": {},
   "outputs": [],
   "source": [
    "from sklearn.ensemble import RandomForestClassifier\n",
    "from sklearn.model_selection import train_test_split\n",
    "from sklearn.metrics import accuracy_score,confusion_matrix\n",
    "\n",
    "x = censusdata.iloc[:, :-1]\n",
    "y = censusdata['YearlyIncome']\n",
    "x_train, x_test, y_train, y_test = train_test_split(x,y,test_size = 0.20,random_state = 0)"
   ]
  },
  {
   "cell_type": "code",
   "execution_count": 115,
   "id": "37d6d16a",
   "metadata": {},
   "outputs": [],
   "source": [
    "classifier1=RandomForestClassifier(n_estimators=300)\n",
    "classifier1.fit(x_train,y_train)\n",
    "y_pred=classifier1.predict(x_test)"
   ]
  },
  {
   "cell_type": "code",
   "execution_count": 116,
   "id": "2738f36c",
   "metadata": {},
   "outputs": [
    {
     "name": "stdout",
     "output_type": "stream",
     "text": [
      "1.0\n"
     ]
    },
    {
     "data": {
      "text/plain": [
       "array([[4532,    0],\n",
       "       [   0, 1501]], dtype=int64)"
      ]
     },
     "execution_count": 116,
     "metadata": {},
     "output_type": "execute_result"
    }
   ],
   "source": [
    "print(accuracy_score(y_test,y_pred))\n",
    "confusion_matrix(y_test,y_pred)"
   ]
  },
  {
   "cell_type": "markdown",
   "id": "a8fbc9cd",
   "metadata": {},
   "source": [
    "# Time Series"
   ]
  },
  {
   "cell_type": "code",
   "execution_count": 121,
   "id": "2ab5d2aa",
   "metadata": {},
   "outputs": [],
   "source": [
    "from statsmodels.tsa.seasonal import seasonal_decompose\n",
    "from statsmodels.tsa.stattools import acf, pacf\n",
    "from statsmodels.tsa.arima_model import ARIMA\n",
    "import matplotlib.pyplot as plt\n",
    "import seaborn as sns"
   ]
  },
  {
   "cell_type": "code",
   "execution_count": 118,
   "id": "8523e833",
   "metadata": {},
   "outputs": [
    {
     "name": "stdout",
     "output_type": "stream",
     "text": [
      "                 value       date\n",
      "date                             \n",
      "1952-01-01  127299.000 1952-01-01\n",
      "1952-02-01  127517.000 1952-02-01\n",
      "1952-03-01  127721.000 1952-03-01\n",
      "1952-04-01  127933.000 1952-04-01\n",
      "1952-05-01  128130.000 1952-05-01\n",
      "...                ...        ...\n",
      "2019-08-01  300581.333 2019-08-01\n",
      "2019-09-01  300775.872 2019-09-01\n",
      "2019-10-01  300972.035 2019-10-01\n",
      "2019-11-01  301144.949 2019-11-01\n",
      "2019-12-01  301299.946 2019-12-01\n",
      "\n",
      "[816 rows x 2 columns]\n"
     ]
    }
   ],
   "source": [
    "popdata['date'] = pd.to_datetime(popdata['date'])\n",
    "popdata.index = popdata['date']\n",
    "print(popdata)"
   ]
  },
  {
   "cell_type": "code",
   "execution_count": 119,
   "id": "c0274efb",
   "metadata": {},
   "outputs": [],
   "source": [
    "del popdata['date']"
   ]
  },
  {
   "cell_type": "code",
   "execution_count": 120,
   "id": "7d62e01a",
   "metadata": {},
   "outputs": [
    {
     "data": {
      "text/html": [
       "<div>\n",
       "<style scoped>\n",
       "    .dataframe tbody tr th:only-of-type {\n",
       "        vertical-align: middle;\n",
       "    }\n",
       "\n",
       "    .dataframe tbody tr th {\n",
       "        vertical-align: top;\n",
       "    }\n",
       "\n",
       "    .dataframe thead th {\n",
       "        text-align: right;\n",
       "    }\n",
       "</style>\n",
       "<table border=\"1\" class=\"dataframe\">\n",
       "  <thead>\n",
       "    <tr style=\"text-align: right;\">\n",
       "      <th></th>\n",
       "      <th>value</th>\n",
       "    </tr>\n",
       "    <tr>\n",
       "      <th>date</th>\n",
       "      <th></th>\n",
       "    </tr>\n",
       "  </thead>\n",
       "  <tbody>\n",
       "    <tr>\n",
       "      <th>1952-01-01</th>\n",
       "      <td>127299.0</td>\n",
       "    </tr>\n",
       "    <tr>\n",
       "      <th>1952-02-01</th>\n",
       "      <td>127517.0</td>\n",
       "    </tr>\n",
       "    <tr>\n",
       "      <th>1952-03-01</th>\n",
       "      <td>127721.0</td>\n",
       "    </tr>\n",
       "    <tr>\n",
       "      <th>1952-04-01</th>\n",
       "      <td>127933.0</td>\n",
       "    </tr>\n",
       "    <tr>\n",
       "      <th>1952-05-01</th>\n",
       "      <td>128130.0</td>\n",
       "    </tr>\n",
       "  </tbody>\n",
       "</table>\n",
       "</div>"
      ],
      "text/plain": [
       "               value\n",
       "date                \n",
       "1952-01-01  127299.0\n",
       "1952-02-01  127517.0\n",
       "1952-03-01  127721.0\n",
       "1952-04-01  127933.0\n",
       "1952-05-01  128130.0"
      ]
     },
     "execution_count": 120,
     "metadata": {},
     "output_type": "execute_result"
    }
   ],
   "source": [
    "popdata.head()"
   ]
  },
  {
   "cell_type": "code",
   "execution_count": 123,
   "id": "df4da64c",
   "metadata": {},
   "outputs": [
    {
     "data": {
      "text/plain": [
       "<AxesSubplot:xlabel='date'>"
      ]
     },
     "execution_count": 123,
     "metadata": {},
     "output_type": "execute_result"
    },
    {
     "data": {
      "image/png": "[encoded data removed]",
      "text/plain": [
       "<Figure size 432x288 with 1 Axes>"
      ]
     },
     "metadata": {
      "needs_background": "light"
     },
     "output_type": "display_data"
    }
   ],
   "source": [
    "popdata.plot()"
   ]
  },
  {
   "cell_type": "code",
   "execution_count": 124,
   "id": "0749fe08",
   "metadata": {},
   "outputs": [
    {
     "name": "stdout",
     "output_type": "stream",
     "text": [
      "                    value\n",
      "date                     \n",
      "1952-01-01            NaN\n",
      "1952-02-01            NaN\n",
      "1952-03-01            NaN\n",
      "1952-04-01            NaN\n",
      "1952-05-01            NaN\n",
      "...                   ...\n",
      "2019-08-01  299675.645500\n",
      "2019-09-01  299841.569167\n",
      "2019-10-01  300007.492917\n",
      "2019-11-01  300173.416667\n",
      "2019-12-01  300339.340417\n",
      "\n",
      "[816 rows x 1 columns]                  value\n",
      "date                  \n",
      "1952-01-01         NaN\n",
      "1952-02-01         NaN\n",
      "1952-03-01         NaN\n",
      "1952-04-01         NaN\n",
      "1952-05-01         NaN\n",
      "...                ...\n",
      "2019-08-01  565.252176\n",
      "2019-09-01  572.166025\n",
      "2019-10-01  588.374720\n",
      "2019-11-01  606.239425\n",
      "2019-12-01  620.412780\n",
      "\n",
      "[816 rows x 1 columns]\n"
     ]
    }
   ],
   "source": [
    "mean_log = popdata.rolling(window=12).mean()\n",
    "std_log = popdata.rolling(window=12).std()\n",
    "print(mean_log, std_log)"
   ]
  },
  {
   "cell_type": "code",
   "execution_count": 125,
   "id": "292ba796",
   "metadata": {},
   "outputs": [
    {
     "data": {
      "image/png": "[encoded data removed]",
      "text/plain": [
       "<Figure size 432x288 with 1 Axes>"
      ]
     },
     "metadata": {
      "needs_background": "light"
     },
     "output_type": "display_data"
    }
   ],
   "source": [
    "plt.plot(popdata, color='blue', label='Original')\n",
    "plt.plot(mean_log, color='red', label='Rolling Mean')\n",
    "plt.plot(std_log, color='black', label='Rolling Std')\n",
    "plt.legend(loc='best')\n",
    "plt.title('Rolling Mean & Standard Deviation (Logarithmic Scale)')\n",
    "plt.show()"
   ]
  },
  {
   "cell_type": "code",
   "execution_count": 126,
   "id": "6649cee7",
   "metadata": {},
   "outputs": [
    {
     "name": "stdout",
     "output_type": "stream",
     "text": [
      "(-0.6653174109472528, 0.8555297779110393, 17, 798, {'1%': -3.4385711275998583, '5%': -2.8651686574447375, '10%': -2.568702230639255}, 6593.486797606457)\n"
     ]
    }
   ],
   "source": [
    "from statsmodels.tsa.stattools import adfuller\n",
    "result = adfuller(popdata['value'])\n",
    "print(result)"
   ]
  },
  {
   "cell_type": "code",
   "execution_count": 128,
   "id": "7e7065eb",
   "metadata": {},
   "outputs": [],
   "source": [
    "first_log = np.log(popdata)\n",
    "first_log = first_log.dropna()"
   ]
  },
  {
   "cell_type": "code",
   "execution_count": 129,
   "id": "6396f386",
   "metadata": {},
   "outputs": [
    {
     "data": {
      "image/png": "[encoded data removed]",
      "text/plain": [
       "<Figure size 432x288 with 1 Axes>"
      ]
     },
     "metadata": {
      "needs_background": "light"
     },
     "output_type": "display_data"
    }
   ],
   "source": [
    "mean_log = first_log.rolling(window=12).mean()\n",
    "std_log = first_log.rolling(window=12).std()\n",
    "\n",
    "plt.plot(first_log, color='blue', label='Original')\n",
    "plt.plot(mean_log, color='red', label='Rolling Mean')\n",
    "plt.plot(std_log, color='black', label='Rolling Std')\n",
    "plt.legend(loc='best')\n",
    "plt.title('Rolling Mean & Standard Deviation (Logarithmic Scale)')\n",
    "plt.show()"
   ]
  },
  {
   "cell_type": "code",
   "execution_count": 130,
   "id": "f4c4b450",
   "metadata": {},
   "outputs": [
    {
     "data": {
      "text/html": [
       "<div>\n",
       "<style scoped>\n",
       "    .dataframe tbody tr th:only-of-type {\n",
       "        vertical-align: middle;\n",
       "    }\n",
       "\n",
       "    .dataframe tbody tr th {\n",
       "        vertical-align: top;\n",
       "    }\n",
       "\n",
       "    .dataframe thead th {\n",
       "        text-align: right;\n",
       "    }\n",
       "</style>\n",
       "<table border=\"1\" class=\"dataframe\">\n",
       "  <thead>\n",
       "    <tr style=\"text-align: right;\">\n",
       "      <th></th>\n",
       "      <th>value</th>\n",
       "    </tr>\n",
       "    <tr>\n",
       "      <th>date</th>\n",
       "      <th></th>\n",
       "    </tr>\n",
       "  </thead>\n",
       "  <tbody>\n",
       "    <tr>\n",
       "      <th>1952-12-01</th>\n",
       "      <td>0.009811</td>\n",
       "    </tr>\n",
       "    <tr>\n",
       "      <th>1953-01-01</th>\n",
       "      <td>0.009748</td>\n",
       "    </tr>\n",
       "    <tr>\n",
       "      <th>1953-02-01</th>\n",
       "      <td>0.009553</td>\n",
       "    </tr>\n",
       "    <tr>\n",
       "      <th>1953-03-01</th>\n",
       "      <td>0.009237</td>\n",
       "    </tr>\n",
       "    <tr>\n",
       "      <th>1953-04-01</th>\n",
       "      <td>0.009139</td>\n",
       "    </tr>\n",
       "  </tbody>\n",
       "</table>\n",
       "</div>"
      ],
      "text/plain": [
       "               value\n",
       "date                \n",
       "1952-12-01  0.009811\n",
       "1953-01-01  0.009748\n",
       "1953-02-01  0.009553\n",
       "1953-03-01  0.009237\n",
       "1953-04-01  0.009139"
      ]
     },
     "execution_count": 130,
     "metadata": {},
     "output_type": "execute_result"
    }
   ],
   "source": [
    "new_data = first_log - mean_log\n",
    "new_data = new_data.dropna()\n",
    "new_data.head() "
   ]
  },
  {
   "cell_type": "code",
   "execution_count": 131,
   "id": "0074e4a8",
   "metadata": {},
   "outputs": [
    {
     "data": {
      "image/png": "[encoded data removed]",
      "text/plain": [
       "<Figure size 432x288 with 1 Axes>"
      ]
     },
     "metadata": {
      "needs_background": "light"
     },
     "output_type": "display_data"
    }
   ],
   "source": [
    "mean_log = new_data.rolling(window=12).mean()\n",
    "std_log = new_data.rolling(window=12).std()\n",
    "\n",
    "plt.plot(new_data, color='blue', label='Original')\n",
    "plt.plot(mean_log, color='red', label='Rolling Mean')\n",
    "plt.plot(std_log, color='black', label='Rolling Std')\n",
    "plt.legend(loc='best')\n",
    "plt.title('Rolling Mean & Standard Deviation (Stationary dataset)')\n",
    "plt.show()"
   ]
  },
  {
   "cell_type": "code",
   "execution_count": 132,
   "id": "cfb51182",
   "metadata": {},
   "outputs": [
    {
     "data": {
      "image/png": "[encoded data removed]",
      "text/plain": [
       "<Figure size 432x288 with 4 Axes>"
      ]
     },
     "metadata": {
      "needs_background": "light"
     },
     "output_type": "display_data"
    }
   ],
   "source": [
    "from statsmodels.tsa.seasonal import seasonal_decompose\n",
    "decomposition = seasonal_decompose(new_data['value'])\n",
    "decomposition.plot();"
   ]
  },
  {
   "cell_type": "code",
   "execution_count": 133,
   "id": "8c01af28",
   "metadata": {},
   "outputs": [],
   "source": [
    "from statsmodels.tsa.stattools import acf\n",
    "from statsmodels.graphics.tsaplots import plot_acf"
   ]
  },
  {
   "cell_type": "code",
   "execution_count": 134,
   "id": "21b962d2",
   "metadata": {},
   "outputs": [
    {
     "data": {
      "image/png": "[encoded data removed]",
      "text/plain": [
       "<Figure size 432x288 with 1 Axes>"
      ]
     },
     "metadata": {
      "needs_background": "light"
     },
     "output_type": "display_data"
    }
   ],
   "source": [
    "acf_plot=acf(new_data)\n",
    "plot_acf(acf_plot,lags = 19 );"
   ]
  },
  {
   "cell_type": "code",
   "execution_count": 135,
   "id": "2be09962",
   "metadata": {},
   "outputs": [],
   "source": [
    "from statsmodels.tsa.stattools import pacf\n",
    "from statsmodels.graphics.tsaplots import plot_pacf"
   ]
  },
  {
   "cell_type": "code",
   "execution_count": 136,
   "id": "b2f065f1",
   "metadata": {},
   "outputs": [
    {
     "name": "stderr",
     "output_type": "stream",
     "text": [
      "E:\\Anaconda\\lib\\site-packages\\statsmodels\\graphics\\tsaplots.py:348: FutureWarning: The default method 'yw' can produce PACF values outside of the [-1,1] interval. After 0.13, the default will change tounadjusted Yule-Walker ('ywm'). You can use this method now by setting method='ywm'.\n",
      "  warnings.warn(\n"
     ]
    },
    {
     "data": {
      "image/png": "[encoded data removed]",
      "text/plain": [
       "<Figure size 432x288 with 1 Axes>"
      ]
     },
     "metadata": {
      "needs_background": "light"
     },
     "output_type": "display_data"
    }
   ],
   "source": [
    "pacf_plot=pacf(new_data)\n",
    "plot_pacf(pacf_plot, lags = 10);"
   ]
  },
  {
   "cell_type": "code",
   "execution_count": 138,
   "id": "3e93fe17",
   "metadata": {},
   "outputs": [
    {
     "data": {
      "text/plain": [
       "(805, 1)"
      ]
     },
     "execution_count": 138,
     "metadata": {},
     "output_type": "execute_result"
    }
   ],
   "source": [
    "new_data.shape"
   ]
  },
  {
   "cell_type": "code",
   "execution_count": 139,
   "id": "4352bc4a",
   "metadata": {},
   "outputs": [],
   "source": [
    "train = new_data.iloc[:665]['value']\n",
    "test = new_data.iloc[666:]['value']"
   ]
  },
  {
   "cell_type": "code",
   "execution_count": 160,
   "id": "e85ba81e",
   "metadata": {},
   "outputs": [
    {
     "name": "stderr",
     "output_type": "stream",
     "text": [
      "E:\\Anaconda\\lib\\site-packages\\statsmodels\\tsa\\base\\tsa_model.py:471: ValueWarning: No frequency information was provided, so inferred frequency MS will be used.\n",
      "  self._init_dates(dates, freq)\n",
      "E:\\Anaconda\\lib\\site-packages\\statsmodels\\tsa\\base\\tsa_model.py:471: ValueWarning: No frequency information was provided, so inferred frequency MS will be used.\n",
      "  self._init_dates(dates, freq)\n",
      "E:\\Anaconda\\lib\\site-packages\\statsmodels\\tsa\\base\\tsa_model.py:471: ValueWarning: No frequency information was provided, so inferred frequency MS will be used.\n",
      "  self._init_dates(dates, freq)\n",
      "E:\\Anaconda\\lib\\site-packages\\statsmodels\\base\\model.py:604: ConvergenceWarning: Maximum Likelihood optimization failed to converge. Check mle_retvals\n",
      "  warnings.warn(\"Maximum Likelihood optimization failed to \"\n"
     ]
    },
    {
     "data": {
      "text/html": [
       "<table class=\"simpletable\">\n",
       "<caption>SARIMAX Results</caption>\n",
       "<tr>\n",
       "  <th>Dep. Variable:</th>         <td>value</td>      <th>  No. Observations:  </th>     <td>665</td>   \n",
       "</tr>\n",
       "<tr>\n",
       "  <th>Model:</th>            <td>ARIMA(2, 0, 1)</td>  <th>  Log Likelihood     </th>  <td>5215.334</td> \n",
       "</tr>\n",
       "<tr>\n",
       "  <th>Date:</th>            <td>Mon, 23 Jan 2023</td> <th>  AIC                </th> <td>-10420.667</td>\n",
       "</tr>\n",
       "<tr>\n",
       "  <th>Time:</th>                <td>13:55:23</td>     <th>  BIC                </th> <td>-10398.168</td>\n",
       "</tr>\n",
       "<tr>\n",
       "  <th>Sample:</th>             <td>12-01-1952</td>    <th>  HQIC               </th> <td>-10411.950</td>\n",
       "</tr>\n",
       "<tr>\n",
       "  <th></th>                   <td>- 04-01-2008</td>   <th>                     </th>      <td> </td>    \n",
       "</tr>\n",
       "<tr>\n",
       "  <th>Covariance Type:</th>        <td>opg</td>       <th>                     </th>      <td> </td>    \n",
       "</tr>\n",
       "</table>\n",
       "<table class=\"simpletable\">\n",
       "<tr>\n",
       "     <td></td>       <th>coef</th>     <th>std err</th>      <th>z</th>      <th>P>|z|</th>  <th>[0.025</th>    <th>0.975]</th>  \n",
       "</tr>\n",
       "<tr>\n",
       "  <th>const</th>  <td>    0.0063</td> <td>    0.001</td> <td>   11.464</td> <td> 0.000</td> <td>    0.005</td> <td>    0.007</td>\n",
       "</tr>\n",
       "<tr>\n",
       "  <th>ar.L1</th>  <td>    1.5906</td> <td>    0.001</td> <td> 1303.171</td> <td> 0.000</td> <td>    1.588</td> <td>    1.593</td>\n",
       "</tr>\n",
       "<tr>\n",
       "  <th>ar.L2</th>  <td>   -0.5979</td> <td>    0.001</td> <td> -488.290</td> <td> 0.000</td> <td>   -0.600</td> <td>   -0.596</td>\n",
       "</tr>\n",
       "<tr>\n",
       "  <th>ma.L1</th>  <td>    0.2902</td> <td> 2.62e-06</td> <td> 1.11e+05</td> <td> 0.000</td> <td>    0.290</td> <td>    0.290</td>\n",
       "</tr>\n",
       "<tr>\n",
       "  <th>sigma2</th> <td> 8.488e-09</td> <td> 3.54e-10</td> <td>   23.973</td> <td> 0.000</td> <td> 7.79e-09</td> <td> 9.18e-09</td>\n",
       "</tr>\n",
       "</table>\n",
       "<table class=\"simpletable\">\n",
       "<tr>\n",
       "  <th>Ljung-Box (L1) (Q):</th>     <td>3.44</td> <th>  Jarque-Bera (JB):  </th> <td>79.32</td>\n",
       "</tr>\n",
       "<tr>\n",
       "  <th>Prob(Q):</th>                <td>0.06</td> <th>  Prob(JB):          </th> <td>0.00</td> \n",
       "</tr>\n",
       "<tr>\n",
       "  <th>Heteroskedasticity (H):</th> <td>0.48</td> <th>  Skew:              </th> <td>0.39</td> \n",
       "</tr>\n",
       "<tr>\n",
       "  <th>Prob(H) (two-sided):</th>    <td>0.00</td> <th>  Kurtosis:          </th> <td>4.50</td> \n",
       "</tr>\n",
       "</table><br/><br/>Warnings:<br/>[1] Covariance matrix calculated using the outer product of gradients (complex-step).<br/>[2] Covariance matrix is singular or near-singular, with condition number 4.82e+22. Standard errors may be unstable."
      ],
      "text/plain": [
       "<class 'statsmodels.iolib.summary.Summary'>\n",
       "\"\"\"\n",
       "                               SARIMAX Results                                \n",
       "==============================================================================\n",
       "Dep. Variable:                  value   No. Observations:                  665\n",
       "Model:                 ARIMA(2, 0, 1)   Log Likelihood                5215.334\n",
       "Date:                Mon, 23 Jan 2023   AIC                         -10420.667\n",
       "Time:                        13:55:23   BIC                         -10398.168\n",
       "Sample:                    12-01-1952   HQIC                        -10411.950\n",
       "                         - 04-01-2008                                         \n",
       "Covariance Type:                  opg                                         \n",
       "==============================================================================\n",
       "                 coef    std err          z      P>|z|      [0.025      0.975]\n",
       "------------------------------------------------------------------------------\n",
       "const          0.0063      0.001     11.464      0.000       0.005       0.007\n",
       "ar.L1          1.5906      0.001   1303.171      0.000       1.588       1.593\n",
       "ar.L2         -0.5979      0.001   -488.290      0.000      -0.600      -0.596\n",
       "ma.L1          0.2902   2.62e-06   1.11e+05      0.000       0.290       0.290\n",
       "sigma2      8.488e-09   3.54e-10     23.973      0.000    7.79e-09    9.18e-09\n",
       "===================================================================================\n",
       "Ljung-Box (L1) (Q):                   3.44   Jarque-Bera (JB):                79.32\n",
       "Prob(Q):                              0.06   Prob(JB):                         0.00\n",
       "Heteroskedasticity (H):               0.48   Skew:                             0.39\n",
       "Prob(H) (two-sided):                  0.00   Kurtosis:                         4.50\n",
       "===================================================================================\n",
       "\n",
       "Warnings:\n",
       "[1] Covariance matrix calculated using the outer product of gradients (complex-step).\n",
       "[2] Covariance matrix is singular or near-singular, with condition number 4.82e+22. Standard errors may be unstable.\n",
       "\"\"\""
      ]
     },
     "execution_count": 160,
     "metadata": {},
     "output_type": "execute_result"
    }
   ],
   "source": [
    "from statsmodels.tsa.arima.model import ARIMA\n",
    "model = ARIMA(train, order=(2,0,1))\n",
    "model_fit = model.fit()\n",
    "model_fit.summary()"
   ]
  },
  {
   "cell_type": "code",
   "execution_count": 161,
   "id": "dcd43b07",
   "metadata": {},
   "outputs": [
    {
     "data": {
      "text/plain": [
       "<AxesSubplot:xlabel='date'>"
      ]
     },
     "execution_count": 161,
     "metadata": {},
     "output_type": "execute_result"
    },
    {
     "data": {
      "image/png": "[encoded data removed]",
      "text/plain": [
       "<Figure size 432x288 with 1 Axes>"
      ]
     },
     "metadata": {
      "needs_background": "light"
     },
     "output_type": "display_data"
    }
   ],
   "source": [
    "new_data['predict'] = model_fit.predict(start= len(train), end=len(train)+len(test)- 1, dynamic=True)\n",
    "new_data[['value','predict']].plot()"
   ]
  },
  {
   "cell_type": "code",
   "execution_count": 162,
   "id": "50b929d0",
   "metadata": {},
   "outputs": [
    {
     "name": "stderr",
     "output_type": "stream",
     "text": [
      "E:\\Anaconda\\lib\\site-packages\\statsmodels\\tsa\\base\\tsa_model.py:471: ValueWarning: No frequency information was provided, so inferred frequency MS will be used.\n",
      "  self._init_dates(dates, freq)\n",
      "E:\\Anaconda\\lib\\site-packages\\statsmodels\\tsa\\base\\tsa_model.py:471: ValueWarning: No frequency information was provided, so inferred frequency MS will be used.\n",
      "  self._init_dates(dates, freq)\n",
      "E:\\Anaconda\\lib\\site-packages\\statsmodels\\tsa\\statespace\\sarimax.py:1009: UserWarning: Non-invertible starting seasonal moving average Using zeros as starting parameters.\n",
      "  warn('Non-invertible starting seasonal moving average'\n",
      "E:\\Anaconda\\lib\\site-packages\\statsmodels\\base\\model.py:604: ConvergenceWarning: Maximum Likelihood optimization failed to converge. Check mle_retvals\n",
      "  warnings.warn(\"Maximum Likelihood optimization failed to \"\n"
     ]
    }
   ],
   "source": [
    "from statsmodels.tsa.statespace.sarimax import SARIMAX, SARIMAXResults\n",
    "model = SARIMAX(train, order=(2,0,1), seasonal_order=(2,0,1,12))\n",
    "model = model.fit()"
   ]
  },
  {
   "cell_type": "code",
   "execution_count": 163,
   "id": "278398be",
   "metadata": {},
   "outputs": [
    {
     "data": {
      "text/plain": [
       "<AxesSubplot:xlabel='date'>"
      ]
     },
     "execution_count": 163,
     "metadata": {},
     "output_type": "execute_result"
    },
    {
     "data": {
      "image/png": "[encoded data removed]",
      "text/plain": [
       "<Figure size 432x288 with 1 Axes>"
      ]
     },
     "metadata": {
      "needs_background": "light"
     },
     "output_type": "display_data"
    }
   ],
   "source": [
    "new_data['predict'] = model.predict(start= len(train) ,end=len(train)+len(test)- 1, dynamic=True)\n",
    "new_data[['value','predict']].plot()"
   ]
  },
  {
   "cell_type": "code",
   "execution_count": 164,
   "id": "b42e0d31",
   "metadata": {},
   "outputs": [
    {
     "data": {
      "text/plain": [
       "<AxesSubplot:xlabel='date'>"
      ]
     },
     "execution_count": 164,
     "metadata": {},
     "output_type": "execute_result"
    },
    {
     "data": {
      "image/png": "[encoded data removed]",
      "text/plain": [
       "<Figure size 432x288 with 1 Axes>"
      ]
     },
     "metadata": {
      "needs_background": "light"
     },
     "output_type": "display_data"
    }
   ],
   "source": [
    "forecast = model.forecast(steps=72)\n",
    "new_data.plot()\n",
    "forecast.plot()"
   ]
  },
  {
   "cell_type": "code",
   "execution_count": null,
   "id": "efea40bb",
   "metadata": {},
   "outputs": [],
   "source": []
  },
  {
   "cell_type": "code",
   "execution_count": null,
   "id": "81ddbace",
   "metadata": {},
   "outputs": [],
   "source": []
  },
  {
   "cell_type": "code",
   "execution_count": null,
   "id": "37b9aa4f",
   "metadata": {},
   "outputs": [],
   "source": []
  },
  {
   "cell_type": "code",
   "execution_count": null,
   "id": "5630b53c",
   "metadata": {},
   "outputs": [],
   "source": []
  },
  {
   "cell_type": "code",
   "execution_count": null,
   "id": "0daaef5e",
   "metadata": {},
   "outputs": [],
   "source": []
  },
  {
   "cell_type": "code",
   "execution_count": null,
   "id": "19eda97b",
   "metadata": {},
   "outputs": [],
   "source": []
  },
  {
   "cell_type": "code",
   "execution_count": null,
   "id": "88902957",
   "metadata": {},
   "outputs": [],
   "source": []
  }
 ],
 "metadata": {
  "kernelspec": {
   "display_name": "Python 3 (ipykernel)",
   "language": "python",
   "name": "python3"
  },
  "language_info": {
   "codemirror_mode": {
    "name": "ipython",
    "version": 3
   },
   "file_extension": ".py",
   "mimetype": "text/x-python",
   "name": "python",
   "nbconvert_exporter": "python",
   "pygments_lexer": "ipython3",
   "version": "3.9.12"
  }
 },
 "nbformat": 4,
 "nbformat_minor": 5
}
